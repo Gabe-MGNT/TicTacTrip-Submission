{
 "cells": [
  {
   "cell_type": "markdown",
   "id": "3a985f00",
   "metadata": {},
   "source": [
    "# Travail d'analyse"
   ]
  },
  {
   "cell_type": "markdown",
   "id": "e3460430",
   "metadata": {},
   "source": [
    "Voici le travail d'analyse que j'ai pu faire avec les csv fournis compte tenu de ce que je savais faire et du temps que j'avais."
   ]
  },
  {
   "cell_type": "code",
   "execution_count": 1,
   "id": "26484302",
   "metadata": {},
   "outputs": [
    {
     "name": "stderr",
     "output_type": "stream",
     "text": [
      "C:\\Users\\gabriel\\AppData\\Roaming\\Python\\Python38\\site-packages\\requests\\__init__.py:89: RequestsDependencyWarning: urllib3 (1.26.13) or chardet (3.0.4) doesn't match a supported version!\n",
      "  warnings.warn(\"urllib3 ({}) or chardet ({}) doesn't match a supported \"\n"
     ]
    }
   ],
   "source": [
    "import pandas as pd\n",
    "import math\n",
    "import numpy as np\n",
    "import seaborn as sns\n",
    "import matplotlib.pyplot as plt\n",
    "import geopy.distance\n",
    "from sklearn.preprocessing import RobustScaler\n",
    "from sklearn.model_selection import train_test_split,cross_val_score\n",
    "from sklearn.linear_model import LinearRegression, ElasticNet\n",
    "from sklearn.metrics import mean_squared_error\n",
    "from xgboost import XGBRegressor\n",
    "from sklearn.ensemble import RandomForestRegressor"
   ]
  },
  {
   "cell_type": "markdown",
   "id": "b3ad8dfe",
   "metadata": {},
   "source": [
    "Naturellement, on commence avec l'import des données et des librairies que l'on utilisera."
   ]
  },
  {
   "cell_type": "code",
   "execution_count": 2,
   "id": "a5e640df",
   "metadata": {},
   "outputs": [],
   "source": [
    "cities = pd.read_csv('cities.csv')\n",
    "providers = pd.read_csv('providers.csv')\n",
    "stations = pd.read_csv('stations.csv')\n",
    "ticket_data = pd.read_csv('ticket_data.csv')"
   ]
  },
  {
   "cell_type": "markdown",
   "id": "eedb1a54",
   "metadata": {},
   "source": [
    "Une chose à faire peut être de regarder chacun des csv pour voir à quoi ressemble les données et avoir une première vue dessus, mais aussi de regarder les données manquantes dans chacuns des ces dataframes."
   ]
  },
  {
   "cell_type": "markdown",
   "id": "c335045e",
   "metadata": {},
   "source": [
    "Le csv cities contient des données sur les villes dont sont issues les stations. Des données utiles comme la latitude et la longitude sont dedans. Quant aux données manquantes, cela ne concerne que la colonne de population, ce qui ne sera pas important puisque je n'utiliserai pas cette colonne plus tard."
   ]
  },
  {
   "cell_type": "code",
   "execution_count": 3,
   "id": "5f443211",
   "metadata": {},
   "outputs": [
    {
     "name": "stdout",
     "output_type": "stream",
     "text": [
      "id                0\n",
      "local_name        0\n",
      "unique_name       1\n",
      "latitude          0\n",
      "longitude         0\n",
      "population     7671\n",
      "dtype: int64\n"
     ]
    },
    {
     "data": {
      "text/html": [
       "<div>\n",
       "<style scoped>\n",
       "    .dataframe tbody tr th:only-of-type {\n",
       "        vertical-align: middle;\n",
       "    }\n",
       "\n",
       "    .dataframe tbody tr th {\n",
       "        vertical-align: top;\n",
       "    }\n",
       "\n",
       "    .dataframe thead th {\n",
       "        text-align: right;\n",
       "    }\n",
       "</style>\n",
       "<table border=\"1\" class=\"dataframe\">\n",
       "  <thead>\n",
       "    <tr style=\"text-align: right;\">\n",
       "      <th></th>\n",
       "      <th>id</th>\n",
       "      <th>local_name</th>\n",
       "      <th>unique_name</th>\n",
       "      <th>latitude</th>\n",
       "      <th>longitude</th>\n",
       "      <th>population</th>\n",
       "    </tr>\n",
       "  </thead>\n",
       "  <tbody>\n",
       "    <tr>\n",
       "      <th>0</th>\n",
       "      <td>5159</td>\n",
       "      <td>Padua, Veneto, Italia</td>\n",
       "      <td>padua</td>\n",
       "      <td>45.406435</td>\n",
       "      <td>11.876761</td>\n",
       "      <td>209678.0</td>\n",
       "    </tr>\n",
       "    <tr>\n",
       "      <th>1</th>\n",
       "      <td>76</td>\n",
       "      <td>Barcelona, Cataluña, España</td>\n",
       "      <td>barcelona</td>\n",
       "      <td>41.385064</td>\n",
       "      <td>2.173404</td>\n",
       "      <td>1611822.0</td>\n",
       "    </tr>\n",
       "    <tr>\n",
       "      <th>2</th>\n",
       "      <td>81</td>\n",
       "      <td>Basel, Basel-Stadt, Schweiz</td>\n",
       "      <td>basel</td>\n",
       "      <td>47.593437</td>\n",
       "      <td>7.619812</td>\n",
       "      <td>NaN</td>\n",
       "    </tr>\n",
       "    <tr>\n",
       "      <th>3</th>\n",
       "      <td>259</td>\n",
       "      <td>Erlangen, Bayern, Deutschland</td>\n",
       "      <td>erlangen</td>\n",
       "      <td>49.589674</td>\n",
       "      <td>11.011961</td>\n",
       "      <td>105412.0</td>\n",
       "    </tr>\n",
       "    <tr>\n",
       "      <th>4</th>\n",
       "      <td>11979</td>\n",
       "      <td>Balș, Olt, România</td>\n",
       "      <td>balș</td>\n",
       "      <td>44.353354</td>\n",
       "      <td>24.095672</td>\n",
       "      <td>NaN</td>\n",
       "    </tr>\n",
       "  </tbody>\n",
       "</table>\n",
       "</div>"
      ],
      "text/plain": [
       "      id                     local_name unique_name   latitude  longitude  \\\n",
       "0   5159          Padua, Veneto, Italia       padua  45.406435  11.876761   \n",
       "1     76    Barcelona, Cataluña, España   barcelona  41.385064   2.173404   \n",
       "2     81    Basel, Basel-Stadt, Schweiz       basel  47.593437   7.619812   \n",
       "3    259  Erlangen, Bayern, Deutschland    erlangen  49.589674  11.011961   \n",
       "4  11979             Balș, Olt, România        balș  44.353354  24.095672   \n",
       "\n",
       "   population  \n",
       "0    209678.0  \n",
       "1   1611822.0  \n",
       "2         NaN  \n",
       "3    105412.0  \n",
       "4         NaN  "
      ]
     },
     "execution_count": 3,
     "metadata": {},
     "output_type": "execute_result"
    }
   ],
   "source": [
    "print(cities.isnull().sum())\n",
    "cities = cities.drop_duplicates()\n",
    "cities.head()\n"
   ]
  },
  {
   "cell_type": "markdown",
   "id": "c31d11e7",
   "metadata": {},
   "source": [
    "Le csv providers contient des données relatives aux fournisseurs des tickets, on a donc : leur nom, leur id, leurs caractéristiques de modes de transports, le type de transport concernés et le nom des compagnies. Les données manquantes sont au niveau du provider_id qui ne semble pas important et les caractéristiques des transports."
   ]
  },
  {
   "cell_type": "code",
   "execution_count": 4,
   "id": "b6faeb55",
   "metadata": {},
   "outputs": [
    {
     "name": "stdout",
     "output_type": "stream",
     "text": [
      "id                       0\n",
      "company_id               0\n",
      "provider_id             14\n",
      "name                     0\n",
      "fullname                 0\n",
      "has_wifi                 3\n",
      "has_plug                 3\n",
      "has_adjustable_seats     3\n",
      "has_bicycle              3\n",
      "transport_type           0\n",
      "dtype: int64\n"
     ]
    },
    {
     "data": {
      "text/html": [
       "<div>\n",
       "<style scoped>\n",
       "    .dataframe tbody tr th:only-of-type {\n",
       "        vertical-align: middle;\n",
       "    }\n",
       "\n",
       "    .dataframe tbody tr th {\n",
       "        vertical-align: top;\n",
       "    }\n",
       "\n",
       "    .dataframe thead th {\n",
       "        text-align: right;\n",
       "    }\n",
       "</style>\n",
       "<table border=\"1\" class=\"dataframe\">\n",
       "  <thead>\n",
       "    <tr style=\"text-align: right;\">\n",
       "      <th></th>\n",
       "      <th>id</th>\n",
       "      <th>company_id</th>\n",
       "      <th>provider_id</th>\n",
       "      <th>name</th>\n",
       "      <th>fullname</th>\n",
       "      <th>has_wifi</th>\n",
       "      <th>has_plug</th>\n",
       "      <th>has_adjustable_seats</th>\n",
       "      <th>has_bicycle</th>\n",
       "      <th>transport_type</th>\n",
       "    </tr>\n",
       "  </thead>\n",
       "  <tbody>\n",
       "    <tr>\n",
       "      <th>0</th>\n",
       "      <td>9</td>\n",
       "      <td>1</td>\n",
       "      <td>NaN</td>\n",
       "      <td>ouibus</td>\n",
       "      <td>Ouibus</td>\n",
       "      <td>True</td>\n",
       "      <td>True</td>\n",
       "      <td>True</td>\n",
       "      <td>False</td>\n",
       "      <td>bus</td>\n",
       "    </tr>\n",
       "    <tr>\n",
       "      <th>1</th>\n",
       "      <td>10</td>\n",
       "      <td>2</td>\n",
       "      <td>NaN</td>\n",
       "      <td>deinbus</td>\n",
       "      <td>Deinbus.de</td>\n",
       "      <td>False</td>\n",
       "      <td>False</td>\n",
       "      <td>False</td>\n",
       "      <td>False</td>\n",
       "      <td>bus</td>\n",
       "    </tr>\n",
       "    <tr>\n",
       "      <th>2</th>\n",
       "      <td>11</td>\n",
       "      <td>3</td>\n",
       "      <td>NaN</td>\n",
       "      <td>infobus</td>\n",
       "      <td>Infobus</td>\n",
       "      <td>False</td>\n",
       "      <td>False</td>\n",
       "      <td>False</td>\n",
       "      <td>False</td>\n",
       "      <td>bus</td>\n",
       "    </tr>\n",
       "    <tr>\n",
       "      <th>3</th>\n",
       "      <td>12</td>\n",
       "      <td>4</td>\n",
       "      <td>NaN</td>\n",
       "      <td>studentAgency</td>\n",
       "      <td>Student Agency</td>\n",
       "      <td>False</td>\n",
       "      <td>False</td>\n",
       "      <td>False</td>\n",
       "      <td>False</td>\n",
       "      <td>bus</td>\n",
       "    </tr>\n",
       "    <tr>\n",
       "      <th>4</th>\n",
       "      <td>13</td>\n",
       "      <td>5</td>\n",
       "      <td>NaN</td>\n",
       "      <td>flixbus</td>\n",
       "      <td>Flixbus</td>\n",
       "      <td>True</td>\n",
       "      <td>False</td>\n",
       "      <td>False</td>\n",
       "      <td>False</td>\n",
       "      <td>bus</td>\n",
       "    </tr>\n",
       "  </tbody>\n",
       "</table>\n",
       "</div>"
      ],
      "text/plain": [
       "   id  company_id provider_id           name        fullname has_wifi  \\\n",
       "0   9           1         NaN         ouibus          Ouibus     True   \n",
       "1  10           2         NaN        deinbus      Deinbus.de    False   \n",
       "2  11           3         NaN        infobus         Infobus    False   \n",
       "3  12           4         NaN  studentAgency  Student Agency    False   \n",
       "4  13           5         NaN        flixbus         Flixbus     True   \n",
       "\n",
       "  has_plug has_adjustable_seats has_bicycle transport_type  \n",
       "0     True                 True       False            bus  \n",
       "1    False                False       False            bus  \n",
       "2    False                False       False            bus  \n",
       "3    False                False       False            bus  \n",
       "4    False                False       False            bus  "
      ]
     },
     "execution_count": 4,
     "metadata": {},
     "output_type": "execute_result"
    }
   ],
   "source": [
    "print(providers.isnull().sum())\n",
    "providers = providers.drop_duplicates()\n",
    "providers.head()"
   ]
  },
  {
   "cell_type": "markdown",
   "id": "bc3e67b1",
   "metadata": {},
   "source": [
    "Ensuite le csv stations à des données relatives aux...stations. Avec cette fois aucune données manquantes."
   ]
  },
  {
   "cell_type": "code",
   "execution_count": 5,
   "id": "24aa896b",
   "metadata": {},
   "outputs": [
    {
     "name": "stdout",
     "output_type": "stream",
     "text": [
      "id             0\n",
      "unique_name    0\n",
      "latitude       0\n",
      "longitude      0\n",
      "dtype: int64\n"
     ]
    },
    {
     "data": {
      "text/html": [
       "<div>\n",
       "<style scoped>\n",
       "    .dataframe tbody tr th:only-of-type {\n",
       "        vertical-align: middle;\n",
       "    }\n",
       "\n",
       "    .dataframe tbody tr th {\n",
       "        vertical-align: top;\n",
       "    }\n",
       "\n",
       "    .dataframe thead th {\n",
       "        text-align: right;\n",
       "    }\n",
       "</style>\n",
       "<table border=\"1\" class=\"dataframe\">\n",
       "  <thead>\n",
       "    <tr style=\"text-align: right;\">\n",
       "      <th></th>\n",
       "      <th>id</th>\n",
       "      <th>unique_name</th>\n",
       "      <th>latitude</th>\n",
       "      <th>longitude</th>\n",
       "    </tr>\n",
       "  </thead>\n",
       "  <tbody>\n",
       "    <tr>\n",
       "      <th>0</th>\n",
       "      <td>1</td>\n",
       "      <td>Aalen (Stuttgarter Straße)</td>\n",
       "      <td>48.835296</td>\n",
       "      <td>10.092956</td>\n",
       "    </tr>\n",
       "    <tr>\n",
       "      <th>1</th>\n",
       "      <td>2</td>\n",
       "      <td>Aéroport Bordeaux-Mérignac</td>\n",
       "      <td>44.830226</td>\n",
       "      <td>-0.700883</td>\n",
       "    </tr>\n",
       "    <tr>\n",
       "      <th>2</th>\n",
       "      <td>3</td>\n",
       "      <td>Aéroport CDG</td>\n",
       "      <td>49.009900</td>\n",
       "      <td>2.559310</td>\n",
       "    </tr>\n",
       "    <tr>\n",
       "      <th>3</th>\n",
       "      <td>4</td>\n",
       "      <td>Aéroport de Berlin-Schönefeld</td>\n",
       "      <td>52.389446</td>\n",
       "      <td>13.520345</td>\n",
       "    </tr>\n",
       "    <tr>\n",
       "      <th>4</th>\n",
       "      <td>5</td>\n",
       "      <td>Aéroport de Dresden</td>\n",
       "      <td>51.123604</td>\n",
       "      <td>13.764737</td>\n",
       "    </tr>\n",
       "  </tbody>\n",
       "</table>\n",
       "</div>"
      ],
      "text/plain": [
       "   id                     unique_name   latitude  longitude\n",
       "0   1      Aalen (Stuttgarter Straße)  48.835296  10.092956\n",
       "1   2      Aéroport Bordeaux-Mérignac  44.830226  -0.700883\n",
       "2   3                   Aéroport CDG   49.009900   2.559310\n",
       "3   4  Aéroport de Berlin-Schönefeld   52.389446  13.520345\n",
       "4   5             Aéroport de Dresden  51.123604  13.764737"
      ]
     },
     "execution_count": 5,
     "metadata": {},
     "output_type": "execute_result"
    }
   ],
   "source": [
    "print(stations.isnull().sum())\n",
    "stations = stations.drop_duplicates()\n",
    "stations.head()"
   ]
  },
  {
   "cell_type": "markdown",
   "id": "a881da1e",
   "metadata": {},
   "source": [
    "Et pour finir le plus important de tous, le csv relatif aux tickets de transport mentionnant l'endroit d'origine et la destination, la compagnie empruntée, la date de départ et d'arrivée, les stations empruntées, le prix...Si ici les données sont primordiales, celles manquantes au vue du contexte semble indiquer que cela n'a pas beaucoup d'importance.\n",
    "C'est à dire que le Nan dans o_station et d_station peut etre assez impactant, mais le Nan dans middle_companies et other_companies doit surement signifier que le trajet se fait d'une station à l'autre sans pause, donc cela peut facilement se gérer."
   ]
  },
  {
   "cell_type": "code",
   "execution_count": 6,
   "id": "1e395b87",
   "metadata": {},
   "outputs": [
    {
     "name": "stdout",
     "output_type": "stream",
     "text": [
      "id                     0\n",
      "company                0\n",
      "o_station          41441\n",
      "d_station          41441\n",
      "departure_ts           0\n",
      "arrival_ts             0\n",
      "price_in_cents         0\n",
      "search_ts              0\n",
      "middle_stations    41441\n",
      "other_companies    41441\n",
      "o_city                 0\n",
      "d_city                 0\n",
      "dtype: int64\n"
     ]
    },
    {
     "data": {
      "text/html": [
       "<div>\n",
       "<style scoped>\n",
       "    .dataframe tbody tr th:only-of-type {\n",
       "        vertical-align: middle;\n",
       "    }\n",
       "\n",
       "    .dataframe tbody tr th {\n",
       "        vertical-align: top;\n",
       "    }\n",
       "\n",
       "    .dataframe thead th {\n",
       "        text-align: right;\n",
       "    }\n",
       "</style>\n",
       "<table border=\"1\" class=\"dataframe\">\n",
       "  <thead>\n",
       "    <tr style=\"text-align: right;\">\n",
       "      <th></th>\n",
       "      <th>id</th>\n",
       "      <th>company</th>\n",
       "      <th>o_station</th>\n",
       "      <th>d_station</th>\n",
       "      <th>departure_ts</th>\n",
       "      <th>arrival_ts</th>\n",
       "      <th>price_in_cents</th>\n",
       "      <th>search_ts</th>\n",
       "      <th>middle_stations</th>\n",
       "      <th>other_companies</th>\n",
       "      <th>o_city</th>\n",
       "      <th>d_city</th>\n",
       "    </tr>\n",
       "  </thead>\n",
       "  <tbody>\n",
       "    <tr>\n",
       "      <th>0</th>\n",
       "      <td>6795025</td>\n",
       "      <td>8385</td>\n",
       "      <td>NaN</td>\n",
       "      <td>NaN</td>\n",
       "      <td>2017-10-13 14:00:00+00</td>\n",
       "      <td>2017-10-13 20:10:00+00</td>\n",
       "      <td>4550</td>\n",
       "      <td>2017-10-01 00:13:31.327+00</td>\n",
       "      <td>NaN</td>\n",
       "      <td>NaN</td>\n",
       "      <td>611</td>\n",
       "      <td>542</td>\n",
       "    </tr>\n",
       "    <tr>\n",
       "      <th>1</th>\n",
       "      <td>6795026</td>\n",
       "      <td>9</td>\n",
       "      <td>63.0</td>\n",
       "      <td>1044.0</td>\n",
       "      <td>2017-10-13 13:05:00+00</td>\n",
       "      <td>2017-10-14 06:55:00+00</td>\n",
       "      <td>1450</td>\n",
       "      <td>2017-10-01 00:13:35.773+00</td>\n",
       "      <td>{149,418}</td>\n",
       "      <td>{13}</td>\n",
       "      <td>611</td>\n",
       "      <td>542</td>\n",
       "    </tr>\n",
       "    <tr>\n",
       "      <th>2</th>\n",
       "      <td>6795027</td>\n",
       "      <td>8377</td>\n",
       "      <td>5905.0</td>\n",
       "      <td>6495.0</td>\n",
       "      <td>2017-10-13 13:27:00+00</td>\n",
       "      <td>2017-10-14 21:24:00+00</td>\n",
       "      <td>7400</td>\n",
       "      <td>2017-10-01 00:13:40.212+00</td>\n",
       "      <td>{798,798,6794,6246}</td>\n",
       "      <td>{8377,8376}</td>\n",
       "      <td>611</td>\n",
       "      <td>542</td>\n",
       "    </tr>\n",
       "    <tr>\n",
       "      <th>3</th>\n",
       "      <td>6795028</td>\n",
       "      <td>8377</td>\n",
       "      <td>5905.0</td>\n",
       "      <td>6495.0</td>\n",
       "      <td>2017-10-13 13:27:00+00</td>\n",
       "      <td>2017-10-14 11:02:00+00</td>\n",
       "      <td>13500</td>\n",
       "      <td>2017-10-01 00:13:40.213+00</td>\n",
       "      <td>{798,798,6794,6246}</td>\n",
       "      <td>{8377,8376}</td>\n",
       "      <td>611</td>\n",
       "      <td>542</td>\n",
       "    </tr>\n",
       "    <tr>\n",
       "      <th>4</th>\n",
       "      <td>6795029</td>\n",
       "      <td>8381</td>\n",
       "      <td>5905.0</td>\n",
       "      <td>6495.0</td>\n",
       "      <td>2017-10-13 21:46:00+00</td>\n",
       "      <td>2017-10-14 19:32:00+00</td>\n",
       "      <td>7710</td>\n",
       "      <td>2017-10-01 00:13:40.213+00</td>\n",
       "      <td>{5983,5983}</td>\n",
       "      <td>{8380}</td>\n",
       "      <td>611</td>\n",
       "      <td>542</td>\n",
       "    </tr>\n",
       "  </tbody>\n",
       "</table>\n",
       "</div>"
      ],
      "text/plain": [
       "        id  company  o_station  d_station            departure_ts  \\\n",
       "0  6795025     8385        NaN        NaN  2017-10-13 14:00:00+00   \n",
       "1  6795026        9       63.0     1044.0  2017-10-13 13:05:00+00   \n",
       "2  6795027     8377     5905.0     6495.0  2017-10-13 13:27:00+00   \n",
       "3  6795028     8377     5905.0     6495.0  2017-10-13 13:27:00+00   \n",
       "4  6795029     8381     5905.0     6495.0  2017-10-13 21:46:00+00   \n",
       "\n",
       "               arrival_ts  price_in_cents                   search_ts  \\\n",
       "0  2017-10-13 20:10:00+00            4550  2017-10-01 00:13:31.327+00   \n",
       "1  2017-10-14 06:55:00+00            1450  2017-10-01 00:13:35.773+00   \n",
       "2  2017-10-14 21:24:00+00            7400  2017-10-01 00:13:40.212+00   \n",
       "3  2017-10-14 11:02:00+00           13500  2017-10-01 00:13:40.213+00   \n",
       "4  2017-10-14 19:32:00+00            7710  2017-10-01 00:13:40.213+00   \n",
       "\n",
       "       middle_stations other_companies  o_city  d_city  \n",
       "0                  NaN             NaN     611     542  \n",
       "1            {149,418}            {13}     611     542  \n",
       "2  {798,798,6794,6246}     {8377,8376}     611     542  \n",
       "3  {798,798,6794,6246}     {8377,8376}     611     542  \n",
       "4          {5983,5983}          {8380}     611     542  "
      ]
     },
     "execution_count": 6,
     "metadata": {},
     "output_type": "execute_result"
    }
   ],
   "source": [
    "print(ticket_data.isnull().sum())\n",
    "ticket_data = ticket_data.drop_duplicates()\n",
    "ticket_data.head()"
   ]
  },
  {
   "cell_type": "markdown",
   "id": "e1b8634e",
   "metadata": {},
   "source": [
    "Les données sont toutes importées correctement, mais du traitement sera à faire (il est fait après). En tout cas on peut clairement voir qu'une liaison sera à faire entre tous ces datasets à la manière SQL."
   ]
  },
  {
   "cell_type": "markdown",
   "id": "8f3839b1",
   "metadata": {},
   "source": [
    "# Prix min, moyen, max"
   ]
  },
  {
   "cell_type": "markdown",
   "id": "95da366e",
   "metadata": {},
   "source": [
    "On commence avec l'une des taches demandées qui est de trouver les caractéristiques du prix des tickets. \n",
    "Si grace à un histogramme on peut voir une inégale répartition du prix avec des données très peu centrées, réussir à récupérer la moyenne, le max et le min se fait en une ligne grace à Pandas."
   ]
  },
  {
   "cell_type": "code",
   "execution_count": 7,
   "id": "8dcc11c2",
   "metadata": {},
   "outputs": [
    {
     "data": {
      "text/plain": [
       "<AxesSubplot:>"
      ]
     },
     "execution_count": 7,
     "metadata": {},
     "output_type": "execute_result"
    },
    {
     "data": {
      "image/png": "[encoded data removed]",
      "text/plain": [
       "<Figure size 432x288 with 1 Axes>"
      ]
     },
     "metadata": {
      "needs_background": "light"
     },
     "output_type": "display_data"
    }
   ],
   "source": [
    "ticket_data.price_in_cents.hist()"
   ]
  },
  {
   "cell_type": "markdown",
   "id": "2ed7c8ce",
   "metadata": {},
   "source": [
    "Si la moyenne du prix est 4382 centimes, son max monte à 38550 et son minimum à 300. Les données des différents quartiles nous démontre le caractère illustré par l'histogramme du dessus et la présence d'outliers."
   ]
  },
  {
   "cell_type": "code",
   "execution_count": 8,
   "id": "b0c5048d",
   "metadata": {},
   "outputs": [
    {
     "data": {
      "text/plain": [
       "count    74168.000000\n",
       "mean      4382.711061\n",
       "std       3739.325367\n",
       "min        300.000000\n",
       "25%       1900.000000\n",
       "50%       3350.000000\n",
       "75%       5250.000000\n",
       "max      38550.000000\n",
       "Name: price_in_cents, dtype: float64"
      ]
     },
     "execution_count": 8,
     "metadata": {},
     "output_type": "execute_result"
    }
   ],
   "source": [
    "ticket_data.price_in_cents.describe()"
   ]
  },
  {
   "cell_type": "markdown",
   "id": "6a264374",
   "metadata": {},
   "source": [
    "## Durée min, max, moyen"
   ]
  },
  {
   "cell_type": "markdown",
   "id": "b653f9dc",
   "metadata": {},
   "source": [
    "La deuxième tache à effectuer était d'avoir des détails sur la durée d'un trajet. On devine assez simplement qu'en ayant la date de départ et d'arrivée qu'on pourra obtenir la durée du trajet en faisant une soustraction."
   ]
  },
  {
   "cell_type": "markdown",
   "id": "adaf2dc8",
   "metadata": {},
   "source": [
    "Comme les différentes colonnes de dates sont comprises comme des objets, on va d'abord les convertir en format de date pour en faire une interpréatation correcte."
   ]
  },
  {
   "cell_type": "code",
   "execution_count": 9,
   "id": "765eafa2",
   "metadata": {},
   "outputs": [
    {
     "name": "stdout",
     "output_type": "stream",
     "text": [
      "<class 'pandas.core.series.Series'>\n",
      "Int64Index: 74168 entries, 0 to 74167\n",
      "Series name: arrival_ts\n",
      "Non-Null Count  Dtype \n",
      "--------------  ----- \n",
      "74168 non-null  object\n",
      "dtypes: object(1)\n",
      "memory usage: 1.1+ MB\n"
     ]
    }
   ],
   "source": [
    "ticket_data.arrival_ts.info()"
   ]
  },
  {
   "cell_type": "code",
   "execution_count": 10,
   "id": "a5c7dde4",
   "metadata": {},
   "outputs": [],
   "source": [
    "ticket_data[['arrival_ts']] = pd.to_datetime(ticket_data[['arrival_ts']].stack(),format=\"%Y-%m-%d %H:%M:%S+00\").unstack()\n",
    "ticket_data[['departure_ts']] = pd.to_datetime(ticket_data[['departure_ts']].stack(),format=\"%Y-%m-%d %H:%M:%S+00\").unstack()"
   ]
  },
  {
   "cell_type": "markdown",
   "id": "913edfc8",
   "metadata": {},
   "source": [
    "Et donc la durée d'un trajet sera le temps écoulé entre l'heure d'arrivée et l'heure de départ."
   ]
  },
  {
   "cell_type": "code",
   "execution_count": 11,
   "id": "82c816b9",
   "metadata": {},
   "outputs": [],
   "source": [
    "ticket_data['durée'] = ticket_data['arrival_ts'] - ticket_data['departure_ts']"
   ]
  },
  {
   "cell_type": "markdown",
   "id": "994581a4",
   "metadata": {},
   "source": [
    "Avec ca, on peut voir que la durée moyenne d'un trajet est de 7h 4min, la durée max est de 20 jours et celle minimum de 20 min. Les informations des quartiles nous permettent de fortement surggérer la présence d'outliers (25% et 75%)"
   ]
  },
  {
   "cell_type": "code",
   "execution_count": 12,
   "id": "49d51900",
   "metadata": {},
   "outputs": [
    {
     "data": {
      "text/plain": [
       "count                        74168\n",
       "mean     0 days 07:04:37.247600043\n",
       "std      0 days 09:54:58.881351022\n",
       "min                0 days 00:20:00\n",
       "25%                0 days 03:00:00\n",
       "50%                0 days 04:50:00\n",
       "75%                0 days 08:00:00\n",
       "max               20 days 12:51:00\n",
       "Name: durée, dtype: object"
      ]
     },
     "execution_count": 12,
     "metadata": {},
     "output_type": "execute_result"
    }
   ],
   "source": [
    "ticket_data['durée'].describe()"
   ]
  },
  {
   "cell_type": "markdown",
   "id": "9366d33a",
   "metadata": {},
   "source": [
    "## Différence du prix moyen"
   ]
  },
  {
   "cell_type": "markdown",
   "id": "ea99e436",
   "metadata": {},
   "source": [
    "La troisième tache demandée était une étude du prix et de la durée en fonction du mode de transport et la distance du trajet. Comme on possède maintenant que la durée, il va falloir calculer la distance.\n",
    "\n",
    "On va commencer simplement avec l'étude du prix en fonction du mode de transport.\n",
    "Mais malheuresement le mode de transport n'est pas donné en fonction du prix, il va falloirt joindre ticket_data et providers, et on a de la chance car dans ticket_data il y a la colonne company qui peut etre reliée à celle id de provider.\n",
    "\n",
    "Comme il peut y avoir méprise dans le csv providers, on va partir du principe que la colonne id représente l'identité du provider et company_id le groupe qui la détient. (De plus dans ticket_data les company id dépasse les 8300, ce qui n'est pas le cas de la colonne company_id de providers)."
   ]
  },
  {
   "cell_type": "code",
   "execution_count": 13,
   "id": "c8e98676",
   "metadata": {},
   "outputs": [],
   "source": [
    "ticket_transport = pd.merge(ticket_data,providers,left_on='company',right_on='id')"
   ]
  },
  {
   "cell_type": "markdown",
   "id": "44c6f40d",
   "metadata": {},
   "source": [
    "En groupant par type de transport l'informations du prix est facilement exploitable. Selon la moyenne, le mode de transport semble clairement avoir un impact sur le prix (en centimes toujours), avec un covoiturage moins cher et le train en plus cher. En observant la colonne min il semblerait que certains trajet en train soient moins cher que le minimum en bus. Mais bon, ce qui nous intéresse ici c'est la moyenne."
   ]
  },
  {
   "cell_type": "code",
   "execution_count": 14,
   "id": "8d5681b6",
   "metadata": {},
   "outputs": [
    {
     "data": {
      "text/html": [
       "<div>\n",
       "<style scoped>\n",
       "    .dataframe tbody tr th:only-of-type {\n",
       "        vertical-align: middle;\n",
       "    }\n",
       "\n",
       "    .dataframe tbody tr th {\n",
       "        vertical-align: top;\n",
       "    }\n",
       "\n",
       "    .dataframe thead th {\n",
       "        text-align: right;\n",
       "    }\n",
       "</style>\n",
       "<table border=\"1\" class=\"dataframe\">\n",
       "  <thead>\n",
       "    <tr style=\"text-align: right;\">\n",
       "      <th></th>\n",
       "      <th>mean</th>\n",
       "      <th>max</th>\n",
       "      <th>min</th>\n",
       "    </tr>\n",
       "    <tr>\n",
       "      <th>transport_type</th>\n",
       "      <th></th>\n",
       "      <th></th>\n",
       "      <th></th>\n",
       "    </tr>\n",
       "  </thead>\n",
       "  <tbody>\n",
       "    <tr>\n",
       "      <th>bus</th>\n",
       "      <td>3652.448036</td>\n",
       "      <td>22900</td>\n",
       "      <td>850</td>\n",
       "    </tr>\n",
       "    <tr>\n",
       "      <th>carpooling</th>\n",
       "      <td>2742.171907</td>\n",
       "      <td>16150</td>\n",
       "      <td>300</td>\n",
       "    </tr>\n",
       "    <tr>\n",
       "      <th>train</th>\n",
       "      <td>8506.634793</td>\n",
       "      <td>38550</td>\n",
       "      <td>490</td>\n",
       "    </tr>\n",
       "  </tbody>\n",
       "</table>\n",
       "</div>"
      ],
      "text/plain": [
       "                       mean    max  min\n",
       "transport_type                         \n",
       "bus             3652.448036  22900  850\n",
       "carpooling      2742.171907  16150  300\n",
       "train           8506.634793  38550  490"
      ]
     },
     "execution_count": 14,
     "metadata": {},
     "output_type": "execute_result"
    }
   ],
   "source": [
    "ticket_transport.groupby('transport_type')['price_in_cents'].agg(['mean',max,min])"
   ]
  },
  {
   "cell_type": "markdown",
   "id": "c9be1bd3",
   "metadata": {},
   "source": [
    "On peut faire exactement la même chose avec la durée.\n",
    "Ici la tendance change un peu, meme si le covoiturage semble avoir une durée moyenne la plus basse, c'est maintenant le bus qui occupe la première place avec une durée moyenne de 15h."
   ]
  },
  {
   "cell_type": "code",
   "execution_count": 15,
   "id": "5df0c9bc",
   "metadata": {},
   "outputs": [
    {
     "data": {
      "text/html": [
       "<div>\n",
       "<style scoped>\n",
       "    .dataframe tbody tr th:only-of-type {\n",
       "        vertical-align: middle;\n",
       "    }\n",
       "\n",
       "    .dataframe tbody tr th {\n",
       "        vertical-align: top;\n",
       "    }\n",
       "\n",
       "    .dataframe thead th {\n",
       "        text-align: right;\n",
       "    }\n",
       "</style>\n",
       "<table border=\"1\" class=\"dataframe\">\n",
       "  <thead>\n",
       "    <tr style=\"text-align: right;\">\n",
       "      <th></th>\n",
       "      <th>mean</th>\n",
       "      <th>max</th>\n",
       "      <th>min</th>\n",
       "    </tr>\n",
       "    <tr>\n",
       "      <th>transport_type</th>\n",
       "      <th></th>\n",
       "      <th></th>\n",
       "      <th></th>\n",
       "    </tr>\n",
       "  </thead>\n",
       "  <tbody>\n",
       "    <tr>\n",
       "      <th>bus</th>\n",
       "      <td>0 days 15:37:59.769531816</td>\n",
       "      <td>20 days 12:51:00</td>\n",
       "      <td>0 days 01:05:00</td>\n",
       "    </tr>\n",
       "    <tr>\n",
       "      <th>carpooling</th>\n",
       "      <td>0 days 04:06:38.330156125</td>\n",
       "      <td>1 days 05:10:00</td>\n",
       "      <td>0 days 00:20:00</td>\n",
       "    </tr>\n",
       "    <tr>\n",
       "      <th>train</th>\n",
       "      <td>0 days 07:20:03.435997675</td>\n",
       "      <td>2 days 00:27:00</td>\n",
       "      <td>0 days 00:39:00</td>\n",
       "    </tr>\n",
       "  </tbody>\n",
       "</table>\n",
       "</div>"
      ],
      "text/plain": [
       "                                    mean              max             min\n",
       "transport_type                                                           \n",
       "bus            0 days 15:37:59.769531816 20 days 12:51:00 0 days 01:05:00\n",
       "carpooling     0 days 04:06:38.330156125  1 days 05:10:00 0 days 00:20:00\n",
       "train          0 days 07:20:03.435997675  2 days 00:27:00 0 days 00:39:00"
      ]
     },
     "execution_count": 15,
     "metadata": {},
     "output_type": "execute_result"
    }
   ],
   "source": [
    "ticket_transport.groupby('transport_type')['durée'].agg(['mean',max,min])"
   ]
  },
  {
   "cell_type": "markdown",
   "id": "f0a896f5",
   "metadata": {},
   "source": [
    "On va maintenant essayer de faire le plus dur :  la distance.\n",
    "Pour calculer la distance et par choix, je vais la calculer entre la ville de départ et la ville d'arrivée. Cela aurait aussi très bien pu se faire avec les stations. Le calcul de la distance va nécessiter donc de joindre 2 dataframes à chaque fois, pour avoir la latitude et longitude de la ville de départ et de celle d'arrivée. Comme on connait dans ticket_data la o_city avec un id, on va la joindre avec le dataframe cities selon la colonne id, et faire la même chose avec la colonne d_city."
   ]
  },
  {
   "cell_type": "code",
   "execution_count": 16,
   "id": "408cad6e",
   "metadata": {},
   "outputs": [],
   "source": [
    "origin_city = pd.merge(ticket_data,cities,left_on='o_city',right_on=\"id\")\n",
    "destination_city = pd.merge(ticket_data,cities,left_on='d_city',right_on=\"id\")"
   ]
  },
  {
   "cell_type": "markdown",
   "id": "87f44df1",
   "metadata": {},
   "source": [
    "origin_city c'est donc le dataframe ticket_data auquel on a joint celui de cities selon l'id dans o_city et la colonne id de cities."
   ]
  },
  {
   "cell_type": "code",
   "execution_count": 17,
   "id": "d62b4ad4",
   "metadata": {},
   "outputs": [
    {
     "data": {
      "text/html": [
       "<div>\n",
       "<style scoped>\n",
       "    .dataframe tbody tr th:only-of-type {\n",
       "        vertical-align: middle;\n",
       "    }\n",
       "\n",
       "    .dataframe tbody tr th {\n",
       "        vertical-align: top;\n",
       "    }\n",
       "\n",
       "    .dataframe thead th {\n",
       "        text-align: right;\n",
       "    }\n",
       "</style>\n",
       "<table border=\"1\" class=\"dataframe\">\n",
       "  <thead>\n",
       "    <tr style=\"text-align: right;\">\n",
       "      <th></th>\n",
       "      <th>id_x</th>\n",
       "      <th>company</th>\n",
       "      <th>o_station</th>\n",
       "      <th>d_station</th>\n",
       "      <th>departure_ts</th>\n",
       "      <th>arrival_ts</th>\n",
       "      <th>price_in_cents</th>\n",
       "      <th>search_ts</th>\n",
       "      <th>middle_stations</th>\n",
       "      <th>other_companies</th>\n",
       "      <th>o_city</th>\n",
       "      <th>d_city</th>\n",
       "      <th>durée</th>\n",
       "      <th>id_y</th>\n",
       "      <th>local_name</th>\n",
       "      <th>unique_name</th>\n",
       "      <th>latitude</th>\n",
       "      <th>longitude</th>\n",
       "      <th>population</th>\n",
       "    </tr>\n",
       "  </thead>\n",
       "  <tbody>\n",
       "    <tr>\n",
       "      <th>0</th>\n",
       "      <td>6795025</td>\n",
       "      <td>8385</td>\n",
       "      <td>NaN</td>\n",
       "      <td>NaN</td>\n",
       "      <td>2017-10-13 14:00:00</td>\n",
       "      <td>2017-10-13 20:10:00</td>\n",
       "      <td>4550</td>\n",
       "      <td>2017-10-01 00:13:31.327+00</td>\n",
       "      <td>NaN</td>\n",
       "      <td>NaN</td>\n",
       "      <td>611</td>\n",
       "      <td>542</td>\n",
       "      <td>0 days 06:10:00</td>\n",
       "      <td>611</td>\n",
       "      <td>Orléans, Centre-Val de Loire, France</td>\n",
       "      <td>orleans</td>\n",
       "      <td>47.907018</td>\n",
       "      <td>1.906270</td>\n",
       "      <td>114977.0</td>\n",
       "    </tr>\n",
       "    <tr>\n",
       "      <th>1</th>\n",
       "      <td>6795026</td>\n",
       "      <td>9</td>\n",
       "      <td>63.0</td>\n",
       "      <td>1044.0</td>\n",
       "      <td>2017-10-13 13:05:00</td>\n",
       "      <td>2017-10-14 06:55:00</td>\n",
       "      <td>1450</td>\n",
       "      <td>2017-10-01 00:13:35.773+00</td>\n",
       "      <td>{149,418}</td>\n",
       "      <td>{13}</td>\n",
       "      <td>611</td>\n",
       "      <td>542</td>\n",
       "      <td>0 days 17:50:00</td>\n",
       "      <td>611</td>\n",
       "      <td>Orléans, Centre-Val de Loire, France</td>\n",
       "      <td>orleans</td>\n",
       "      <td>47.907018</td>\n",
       "      <td>1.906270</td>\n",
       "      <td>114977.0</td>\n",
       "    </tr>\n",
       "    <tr>\n",
       "      <th>2</th>\n",
       "      <td>6795027</td>\n",
       "      <td>8377</td>\n",
       "      <td>5905.0</td>\n",
       "      <td>6495.0</td>\n",
       "      <td>2017-10-13 13:27:00</td>\n",
       "      <td>2017-10-14 21:24:00</td>\n",
       "      <td>7400</td>\n",
       "      <td>2017-10-01 00:13:40.212+00</td>\n",
       "      <td>{798,798,6794,6246}</td>\n",
       "      <td>{8377,8376}</td>\n",
       "      <td>611</td>\n",
       "      <td>542</td>\n",
       "      <td>1 days 07:57:00</td>\n",
       "      <td>611</td>\n",
       "      <td>Orléans, Centre-Val de Loire, France</td>\n",
       "      <td>orleans</td>\n",
       "      <td>47.907018</td>\n",
       "      <td>1.906270</td>\n",
       "      <td>114977.0</td>\n",
       "    </tr>\n",
       "    <tr>\n",
       "      <th>3</th>\n",
       "      <td>6795028</td>\n",
       "      <td>8377</td>\n",
       "      <td>5905.0</td>\n",
       "      <td>6495.0</td>\n",
       "      <td>2017-10-13 13:27:00</td>\n",
       "      <td>2017-10-14 11:02:00</td>\n",
       "      <td>13500</td>\n",
       "      <td>2017-10-01 00:13:40.213+00</td>\n",
       "      <td>{798,798,6794,6246}</td>\n",
       "      <td>{8377,8376}</td>\n",
       "      <td>611</td>\n",
       "      <td>542</td>\n",
       "      <td>0 days 21:35:00</td>\n",
       "      <td>611</td>\n",
       "      <td>Orléans, Centre-Val de Loire, France</td>\n",
       "      <td>orleans</td>\n",
       "      <td>47.907018</td>\n",
       "      <td>1.906270</td>\n",
       "      <td>114977.0</td>\n",
       "    </tr>\n",
       "    <tr>\n",
       "      <th>4</th>\n",
       "      <td>6795029</td>\n",
       "      <td>8381</td>\n",
       "      <td>5905.0</td>\n",
       "      <td>6495.0</td>\n",
       "      <td>2017-10-13 21:46:00</td>\n",
       "      <td>2017-10-14 19:32:00</td>\n",
       "      <td>7710</td>\n",
       "      <td>2017-10-01 00:13:40.213+00</td>\n",
       "      <td>{5983,5983}</td>\n",
       "      <td>{8380}</td>\n",
       "      <td>611</td>\n",
       "      <td>542</td>\n",
       "      <td>0 days 21:46:00</td>\n",
       "      <td>611</td>\n",
       "      <td>Orléans, Centre-Val de Loire, France</td>\n",
       "      <td>orleans</td>\n",
       "      <td>47.907018</td>\n",
       "      <td>1.906270</td>\n",
       "      <td>114977.0</td>\n",
       "    </tr>\n",
       "    <tr>\n",
       "      <th>...</th>\n",
       "      <td>...</td>\n",
       "      <td>...</td>\n",
       "      <td>...</td>\n",
       "      <td>...</td>\n",
       "      <td>...</td>\n",
       "      <td>...</td>\n",
       "      <td>...</td>\n",
       "      <td>...</td>\n",
       "      <td>...</td>\n",
       "      <td>...</td>\n",
       "      <td>...</td>\n",
       "      <td>...</td>\n",
       "      <td>...</td>\n",
       "      <td>...</td>\n",
       "      <td>...</td>\n",
       "      <td>...</td>\n",
       "      <td>...</td>\n",
       "      <td>...</td>\n",
       "      <td>...</td>\n",
       "    </tr>\n",
       "    <tr>\n",
       "      <th>74163</th>\n",
       "      <td>6868361</td>\n",
       "      <td>8385</td>\n",
       "      <td>NaN</td>\n",
       "      <td>NaN</td>\n",
       "      <td>2017-10-27 08:30:00</td>\n",
       "      <td>2017-10-27 12:00:00</td>\n",
       "      <td>1850</td>\n",
       "      <td>2017-10-19 07:46:05.98+00</td>\n",
       "      <td>NaN</td>\n",
       "      <td>NaN</td>\n",
       "      <td>649</td>\n",
       "      <td>528</td>\n",
       "      <td>0 days 03:30:00</td>\n",
       "      <td>649</td>\n",
       "      <td>Pisa, Toscana, Italia</td>\n",
       "      <td>pisa</td>\n",
       "      <td>43.722839</td>\n",
       "      <td>10.401689</td>\n",
       "      <td>NaN</td>\n",
       "    </tr>\n",
       "    <tr>\n",
       "      <th>74164</th>\n",
       "      <td>6868362</td>\n",
       "      <td>8385</td>\n",
       "      <td>NaN</td>\n",
       "      <td>NaN</td>\n",
       "      <td>2017-10-27 14:00:00</td>\n",
       "      <td>2017-10-27 17:40:00</td>\n",
       "      <td>2050</td>\n",
       "      <td>2017-10-19 07:46:05.98+00</td>\n",
       "      <td>NaN</td>\n",
       "      <td>NaN</td>\n",
       "      <td>649</td>\n",
       "      <td>528</td>\n",
       "      <td>0 days 03:40:00</td>\n",
       "      <td>649</td>\n",
       "      <td>Pisa, Toscana, Italia</td>\n",
       "      <td>pisa</td>\n",
       "      <td>43.722839</td>\n",
       "      <td>10.401689</td>\n",
       "      <td>NaN</td>\n",
       "    </tr>\n",
       "    <tr>\n",
       "      <th>74165</th>\n",
       "      <td>6868363</td>\n",
       "      <td>8385</td>\n",
       "      <td>NaN</td>\n",
       "      <td>NaN</td>\n",
       "      <td>2017-10-27 16:50:00</td>\n",
       "      <td>2017-10-27 19:50:00</td>\n",
       "      <td>2050</td>\n",
       "      <td>2017-10-19 07:46:05.98+00</td>\n",
       "      <td>NaN</td>\n",
       "      <td>NaN</td>\n",
       "      <td>649</td>\n",
       "      <td>528</td>\n",
       "      <td>0 days 03:00:00</td>\n",
       "      <td>649</td>\n",
       "      <td>Pisa, Toscana, Italia</td>\n",
       "      <td>pisa</td>\n",
       "      <td>43.722839</td>\n",
       "      <td>10.401689</td>\n",
       "      <td>NaN</td>\n",
       "    </tr>\n",
       "    <tr>\n",
       "      <th>74166</th>\n",
       "      <td>6868364</td>\n",
       "      <td>8385</td>\n",
       "      <td>NaN</td>\n",
       "      <td>NaN</td>\n",
       "      <td>2017-10-27 17:00:12</td>\n",
       "      <td>2017-10-27 20:30:12</td>\n",
       "      <td>1950</td>\n",
       "      <td>2017-10-19 07:46:05.98+00</td>\n",
       "      <td>NaN</td>\n",
       "      <td>NaN</td>\n",
       "      <td>649</td>\n",
       "      <td>528</td>\n",
       "      <td>0 days 03:30:00</td>\n",
       "      <td>649</td>\n",
       "      <td>Pisa, Toscana, Italia</td>\n",
       "      <td>pisa</td>\n",
       "      <td>43.722839</td>\n",
       "      <td>10.401689</td>\n",
       "      <td>NaN</td>\n",
       "    </tr>\n",
       "    <tr>\n",
       "      <th>74167</th>\n",
       "      <td>6868365</td>\n",
       "      <td>8385</td>\n",
       "      <td>NaN</td>\n",
       "      <td>NaN</td>\n",
       "      <td>2017-10-27 18:00:00</td>\n",
       "      <td>2017-10-27 21:00:00</td>\n",
       "      <td>1750</td>\n",
       "      <td>2017-10-19 07:46:05.98+00</td>\n",
       "      <td>NaN</td>\n",
       "      <td>NaN</td>\n",
       "      <td>649</td>\n",
       "      <td>528</td>\n",
       "      <td>0 days 03:00:00</td>\n",
       "      <td>649</td>\n",
       "      <td>Pisa, Toscana, Italia</td>\n",
       "      <td>pisa</td>\n",
       "      <td>43.722839</td>\n",
       "      <td>10.401689</td>\n",
       "      <td>NaN</td>\n",
       "    </tr>\n",
       "  </tbody>\n",
       "</table>\n",
       "<p>74168 rows × 19 columns</p>\n",
       "</div>"
      ],
      "text/plain": [
       "          id_x  company  o_station  d_station        departure_ts  \\\n",
       "0      6795025     8385        NaN        NaN 2017-10-13 14:00:00   \n",
       "1      6795026        9       63.0     1044.0 2017-10-13 13:05:00   \n",
       "2      6795027     8377     5905.0     6495.0 2017-10-13 13:27:00   \n",
       "3      6795028     8377     5905.0     6495.0 2017-10-13 13:27:00   \n",
       "4      6795029     8381     5905.0     6495.0 2017-10-13 21:46:00   \n",
       "...        ...      ...        ...        ...                 ...   \n",
       "74163  6868361     8385        NaN        NaN 2017-10-27 08:30:00   \n",
       "74164  6868362     8385        NaN        NaN 2017-10-27 14:00:00   \n",
       "74165  6868363     8385        NaN        NaN 2017-10-27 16:50:00   \n",
       "74166  6868364     8385        NaN        NaN 2017-10-27 17:00:12   \n",
       "74167  6868365     8385        NaN        NaN 2017-10-27 18:00:00   \n",
       "\n",
       "               arrival_ts  price_in_cents                   search_ts  \\\n",
       "0     2017-10-13 20:10:00            4550  2017-10-01 00:13:31.327+00   \n",
       "1     2017-10-14 06:55:00            1450  2017-10-01 00:13:35.773+00   \n",
       "2     2017-10-14 21:24:00            7400  2017-10-01 00:13:40.212+00   \n",
       "3     2017-10-14 11:02:00           13500  2017-10-01 00:13:40.213+00   \n",
       "4     2017-10-14 19:32:00            7710  2017-10-01 00:13:40.213+00   \n",
       "...                   ...             ...                         ...   \n",
       "74163 2017-10-27 12:00:00            1850   2017-10-19 07:46:05.98+00   \n",
       "74164 2017-10-27 17:40:00            2050   2017-10-19 07:46:05.98+00   \n",
       "74165 2017-10-27 19:50:00            2050   2017-10-19 07:46:05.98+00   \n",
       "74166 2017-10-27 20:30:12            1950   2017-10-19 07:46:05.98+00   \n",
       "74167 2017-10-27 21:00:00            1750   2017-10-19 07:46:05.98+00   \n",
       "\n",
       "           middle_stations other_companies  o_city  d_city           durée  \\\n",
       "0                      NaN             NaN     611     542 0 days 06:10:00   \n",
       "1                {149,418}            {13}     611     542 0 days 17:50:00   \n",
       "2      {798,798,6794,6246}     {8377,8376}     611     542 1 days 07:57:00   \n",
       "3      {798,798,6794,6246}     {8377,8376}     611     542 0 days 21:35:00   \n",
       "4              {5983,5983}          {8380}     611     542 0 days 21:46:00   \n",
       "...                    ...             ...     ...     ...             ...   \n",
       "74163                  NaN             NaN     649     528 0 days 03:30:00   \n",
       "74164                  NaN             NaN     649     528 0 days 03:40:00   \n",
       "74165                  NaN             NaN     649     528 0 days 03:00:00   \n",
       "74166                  NaN             NaN     649     528 0 days 03:30:00   \n",
       "74167                  NaN             NaN     649     528 0 days 03:00:00   \n",
       "\n",
       "       id_y                            local_name unique_name   latitude  \\\n",
       "0       611  Orléans, Centre-Val de Loire, France     orleans  47.907018   \n",
       "1       611  Orléans, Centre-Val de Loire, France     orleans  47.907018   \n",
       "2       611  Orléans, Centre-Val de Loire, France     orleans  47.907018   \n",
       "3       611  Orléans, Centre-Val de Loire, France     orleans  47.907018   \n",
       "4       611  Orléans, Centre-Val de Loire, France     orleans  47.907018   \n",
       "...     ...                                   ...         ...        ...   \n",
       "74163   649                 Pisa, Toscana, Italia        pisa  43.722839   \n",
       "74164   649                 Pisa, Toscana, Italia        pisa  43.722839   \n",
       "74165   649                 Pisa, Toscana, Italia        pisa  43.722839   \n",
       "74166   649                 Pisa, Toscana, Italia        pisa  43.722839   \n",
       "74167   649                 Pisa, Toscana, Italia        pisa  43.722839   \n",
       "\n",
       "       longitude  population  \n",
       "0       1.906270    114977.0  \n",
       "1       1.906270    114977.0  \n",
       "2       1.906270    114977.0  \n",
       "3       1.906270    114977.0  \n",
       "4       1.906270    114977.0  \n",
       "...          ...         ...  \n",
       "74163  10.401689         NaN  \n",
       "74164  10.401689         NaN  \n",
       "74165  10.401689         NaN  \n",
       "74166  10.401689         NaN  \n",
       "74167  10.401689         NaN  \n",
       "\n",
       "[74168 rows x 19 columns]"
      ]
     },
     "execution_count": 17,
     "metadata": {},
     "output_type": "execute_result"
    }
   ],
   "source": [
    "origin_city"
   ]
  },
  {
   "cell_type": "markdown",
   "id": "95a0e6b7",
   "metadata": {},
   "source": [
    "L'un des moyens de calculer la distance est d'utiliser les latitudes et longitudes des villes d'arrivées et de départ. Ne connaissant le calcul requis, je me suis servi de ce lien : https://stackoverflow.com/questions/19412462/getting-distance-between-two-points-based-on-latitude-longitude."
   ]
  },
  {
   "cell_type": "markdown",
   "id": "144933be",
   "metadata": {},
   "source": [
    "Cela donnait le calcul nécessaire pour avoir la distance, une fois cela mis sous forme de fonction, on n'a plus qu'à appliquer tout ca en fonction du dataframe origin_city contenant les latitude/longitude des villes de départ et destination_city contenant les latitudes/longitudes des villes d'arrivées."
   ]
  },
  {
   "cell_type": "code",
   "execution_count": 18,
   "id": "59688899",
   "metadata": {},
   "outputs": [],
   "source": [
    "def calc_distance(lat1, lat2, lon1, lon2):\n",
    "    #return np.arccos(np.sin(lat1)*np.sin(lat2)+np.cos(lat1)*np.cos(lat2)*np.cos(lon2-lon1))*6371\n",
    "    lat1 = np.radians(lat1)\n",
    "    lat2 = np.radians(lat2)\n",
    "    lon1 = np.radians(lon1)\n",
    "    lon2 = np.radians(lon2)\n",
    "\n",
    "    \n",
    "    dlon = lon2 - lon1\n",
    "    dlat = lat2 - lat1\n",
    "    a = np.sin(dlat / 2)**2 + np.cos(lat1) * np.cos(lat2) * np.sin(dlon / 2)**2\n",
    " \n",
    "    c = 2 * np.sin(np.sqrt(a))\n",
    "    \n",
    "    # Radius of earth in kilometers. Use 3956 for miles\n",
    "    r = 6371\n",
    "      \n",
    "    # calculate the result\n",
    "    return(c * r)"
   ]
  },
  {
   "cell_type": "code",
   "execution_count": 19,
   "id": "f6a277d7",
   "metadata": {},
   "outputs": [],
   "source": [
    "ticket_transport['distance'] = calc_distance(origin_city['latitude'],destination_city['latitude'],origin_city['longitude'],destination_city['longitude'])"
   ]
  },
  {
   "cell_type": "markdown",
   "id": "7dc82244",
   "metadata": {},
   "source": [
    "On place toutes ces distances dans une nouvelles colonnes de ticket_data.\n",
    "Bien évidemment que toutes les distances calculées sont des distances à vol d'oiseau, c'est pourquoi :\n",
    "\n",
    "##### Piste d'améliorations\n",
    "- Prendre en compte les stations plutot que les villes pour plus de précisions\n",
    "- Se servir des middle_stations s'il y en a pour affiner la distance et avoir encore plus de précision."
   ]
  },
  {
   "cell_type": "code",
   "execution_count": 20,
   "id": "035d06db",
   "metadata": {},
   "outputs": [
    {
     "data": {
      "text/html": [
       "<div>\n",
       "<style scoped>\n",
       "    .dataframe tbody tr th:only-of-type {\n",
       "        vertical-align: middle;\n",
       "    }\n",
       "\n",
       "    .dataframe tbody tr th {\n",
       "        vertical-align: top;\n",
       "    }\n",
       "\n",
       "    .dataframe thead th {\n",
       "        text-align: right;\n",
       "    }\n",
       "</style>\n",
       "<table border=\"1\" class=\"dataframe\">\n",
       "  <thead>\n",
       "    <tr style=\"text-align: right;\">\n",
       "      <th></th>\n",
       "      <th>id_x</th>\n",
       "      <th>company</th>\n",
       "      <th>o_station</th>\n",
       "      <th>d_station</th>\n",
       "      <th>departure_ts</th>\n",
       "      <th>arrival_ts</th>\n",
       "      <th>price_in_cents</th>\n",
       "      <th>search_ts</th>\n",
       "      <th>middle_stations</th>\n",
       "      <th>other_companies</th>\n",
       "      <th>...</th>\n",
       "      <th>company_id</th>\n",
       "      <th>provider_id</th>\n",
       "      <th>name</th>\n",
       "      <th>fullname</th>\n",
       "      <th>has_wifi</th>\n",
       "      <th>has_plug</th>\n",
       "      <th>has_adjustable_seats</th>\n",
       "      <th>has_bicycle</th>\n",
       "      <th>transport_type</th>\n",
       "      <th>distance</th>\n",
       "    </tr>\n",
       "  </thead>\n",
       "  <tbody>\n",
       "    <tr>\n",
       "      <th>0</th>\n",
       "      <td>6795025</td>\n",
       "      <td>8385</td>\n",
       "      <td>NaN</td>\n",
       "      <td>NaN</td>\n",
       "      <td>2017-10-13 14:00:00</td>\n",
       "      <td>2017-10-13 20:10:00</td>\n",
       "      <td>4550</td>\n",
       "      <td>2017-10-01 00:13:31.327+00</td>\n",
       "      <td>NaN</td>\n",
       "      <td>NaN</td>\n",
       "      <td>...</td>\n",
       "      <td>11</td>\n",
       "      <td>NaN</td>\n",
       "      <td>bbc</td>\n",
       "      <td>Blablacar</td>\n",
       "      <td>False</td>\n",
       "      <td>False</td>\n",
       "      <td>False</td>\n",
       "      <td>False</td>\n",
       "      <td>carpooling</td>\n",
       "      <td>502.935701</td>\n",
       "    </tr>\n",
       "    <tr>\n",
       "      <th>1</th>\n",
       "      <td>6795030</td>\n",
       "      <td>8385</td>\n",
       "      <td>NaN</td>\n",
       "      <td>NaN</td>\n",
       "      <td>2017-10-06 05:30:00</td>\n",
       "      <td>2017-10-06 08:30:00</td>\n",
       "      <td>1800</td>\n",
       "      <td>2017-10-01 01:03:18.948+00</td>\n",
       "      <td>NaN</td>\n",
       "      <td>NaN</td>\n",
       "      <td>...</td>\n",
       "      <td>11</td>\n",
       "      <td>NaN</td>\n",
       "      <td>bbc</td>\n",
       "      <td>Blablacar</td>\n",
       "      <td>False</td>\n",
       "      <td>False</td>\n",
       "      <td>False</td>\n",
       "      <td>False</td>\n",
       "      <td>carpooling</td>\n",
       "      <td>502.935701</td>\n",
       "    </tr>\n",
       "    <tr>\n",
       "      <th>2</th>\n",
       "      <td>6795031</td>\n",
       "      <td>8385</td>\n",
       "      <td>NaN</td>\n",
       "      <td>NaN</td>\n",
       "      <td>2017-10-06 07:00:42</td>\n",
       "      <td>2017-10-06 09:30:42</td>\n",
       "      <td>2150</td>\n",
       "      <td>2017-10-01 01:03:18.948+00</td>\n",
       "      <td>NaN</td>\n",
       "      <td>NaN</td>\n",
       "      <td>...</td>\n",
       "      <td>11</td>\n",
       "      <td>NaN</td>\n",
       "      <td>bbc</td>\n",
       "      <td>Blablacar</td>\n",
       "      <td>False</td>\n",
       "      <td>False</td>\n",
       "      <td>False</td>\n",
       "      <td>False</td>\n",
       "      <td>carpooling</td>\n",
       "      <td>502.935701</td>\n",
       "    </tr>\n",
       "    <tr>\n",
       "      <th>3</th>\n",
       "      <td>6795032</td>\n",
       "      <td>8385</td>\n",
       "      <td>NaN</td>\n",
       "      <td>NaN</td>\n",
       "      <td>2017-10-06 07:10:00</td>\n",
       "      <td>2017-10-06 09:40:00</td>\n",
       "      <td>1700</td>\n",
       "      <td>2017-10-01 01:03:18.948+00</td>\n",
       "      <td>NaN</td>\n",
       "      <td>NaN</td>\n",
       "      <td>...</td>\n",
       "      <td>11</td>\n",
       "      <td>NaN</td>\n",
       "      <td>bbc</td>\n",
       "      <td>Blablacar</td>\n",
       "      <td>False</td>\n",
       "      <td>False</td>\n",
       "      <td>False</td>\n",
       "      <td>False</td>\n",
       "      <td>carpooling</td>\n",
       "      <td>502.935701</td>\n",
       "    </tr>\n",
       "    <tr>\n",
       "      <th>4</th>\n",
       "      <td>6795033</td>\n",
       "      <td>8385</td>\n",
       "      <td>NaN</td>\n",
       "      <td>NaN</td>\n",
       "      <td>2017-10-06 10:00:00</td>\n",
       "      <td>2017-10-06 12:50:00</td>\n",
       "      <td>1700</td>\n",
       "      <td>2017-10-01 01:03:18.948+00</td>\n",
       "      <td>NaN</td>\n",
       "      <td>NaN</td>\n",
       "      <td>...</td>\n",
       "      <td>11</td>\n",
       "      <td>NaN</td>\n",
       "      <td>bbc</td>\n",
       "      <td>Blablacar</td>\n",
       "      <td>False</td>\n",
       "      <td>False</td>\n",
       "      <td>False</td>\n",
       "      <td>False</td>\n",
       "      <td>carpooling</td>\n",
       "      <td>502.935701</td>\n",
       "    </tr>\n",
       "    <tr>\n",
       "      <th>...</th>\n",
       "      <td>...</td>\n",
       "      <td>...</td>\n",
       "      <td>...</td>\n",
       "      <td>...</td>\n",
       "      <td>...</td>\n",
       "      <td>...</td>\n",
       "      <td>...</td>\n",
       "      <td>...</td>\n",
       "      <td>...</td>\n",
       "      <td>...</td>\n",
       "      <td>...</td>\n",
       "      <td>...</td>\n",
       "      <td>...</td>\n",
       "      <td>...</td>\n",
       "      <td>...</td>\n",
       "      <td>...</td>\n",
       "      <td>...</td>\n",
       "      <td>...</td>\n",
       "      <td>...</td>\n",
       "      <td>...</td>\n",
       "      <td>...</td>\n",
       "    </tr>\n",
       "    <tr>\n",
       "      <th>74163</th>\n",
       "      <td>6848395</td>\n",
       "      <td>12</td>\n",
       "      <td>283.0</td>\n",
       "      <td>1595.0</td>\n",
       "      <td>2017-10-27 06:00:00</td>\n",
       "      <td>2017-10-27 17:45:00</td>\n",
       "      <td>4687</td>\n",
       "      <td>2017-10-14 19:01:07.915+00</td>\n",
       "      <td>{561,8813}</td>\n",
       "      <td>{71}</td>\n",
       "      <td>...</td>\n",
       "      <td>4</td>\n",
       "      <td>NaN</td>\n",
       "      <td>studentAgency</td>\n",
       "      <td>Student Agency</td>\n",
       "      <td>False</td>\n",
       "      <td>False</td>\n",
       "      <td>False</td>\n",
       "      <td>False</td>\n",
       "      <td>bus</td>\n",
       "      <td>1208.312305</td>\n",
       "    </tr>\n",
       "    <tr>\n",
       "      <th>74164</th>\n",
       "      <td>6848396</td>\n",
       "      <td>12</td>\n",
       "      <td>283.0</td>\n",
       "      <td>1593.0</td>\n",
       "      <td>2017-10-27 06:00:00</td>\n",
       "      <td>2017-10-27 17:20:00</td>\n",
       "      <td>4777</td>\n",
       "      <td>2017-10-14 19:01:07.915+00</td>\n",
       "      <td>{561,561}</td>\n",
       "      <td>{71}</td>\n",
       "      <td>...</td>\n",
       "      <td>4</td>\n",
       "      <td>NaN</td>\n",
       "      <td>studentAgency</td>\n",
       "      <td>Student Agency</td>\n",
       "      <td>False</td>\n",
       "      <td>False</td>\n",
       "      <td>False</td>\n",
       "      <td>False</td>\n",
       "      <td>bus</td>\n",
       "      <td>1208.312305</td>\n",
       "    </tr>\n",
       "    <tr>\n",
       "      <th>74165</th>\n",
       "      <td>6852979</td>\n",
       "      <td>12</td>\n",
       "      <td>523.0</td>\n",
       "      <td>86.0</td>\n",
       "      <td>2017-10-30 21:30:00</td>\n",
       "      <td>2017-10-31 11:45:00</td>\n",
       "      <td>1990</td>\n",
       "      <td>2017-10-16 08:10:00.399+00</td>\n",
       "      <td>{458,458}</td>\n",
       "      <td>{13}</td>\n",
       "      <td>...</td>\n",
       "      <td>4</td>\n",
       "      <td>NaN</td>\n",
       "      <td>studentAgency</td>\n",
       "      <td>Student Agency</td>\n",
       "      <td>False</td>\n",
       "      <td>False</td>\n",
       "      <td>False</td>\n",
       "      <td>False</td>\n",
       "      <td>bus</td>\n",
       "      <td>1208.312305</td>\n",
       "    </tr>\n",
       "    <tr>\n",
       "      <th>74166</th>\n",
       "      <td>6853589</td>\n",
       "      <td>12</td>\n",
       "      <td>283.0</td>\n",
       "      <td>523.0</td>\n",
       "      <td>2017-12-22 18:30:00</td>\n",
       "      <td>2017-12-23 04:25:00</td>\n",
       "      <td>4590</td>\n",
       "      <td>2017-10-16 10:12:35.105+00</td>\n",
       "      <td>{330,330}</td>\n",
       "      <td>{13}</td>\n",
       "      <td>...</td>\n",
       "      <td>4</td>\n",
       "      <td>NaN</td>\n",
       "      <td>studentAgency</td>\n",
       "      <td>Student Agency</td>\n",
       "      <td>False</td>\n",
       "      <td>False</td>\n",
       "      <td>False</td>\n",
       "      <td>False</td>\n",
       "      <td>bus</td>\n",
       "      <td>1208.312305</td>\n",
       "    </tr>\n",
       "    <tr>\n",
       "      <th>74167</th>\n",
       "      <td>6856599</td>\n",
       "      <td>12</td>\n",
       "      <td>283.0</td>\n",
       "      <td>523.0</td>\n",
       "      <td>2017-11-03 18:30:00</td>\n",
       "      <td>2017-11-04 03:55:00</td>\n",
       "      <td>3300</td>\n",
       "      <td>2017-10-16 20:12:19.537+00</td>\n",
       "      <td>{330,330}</td>\n",
       "      <td>{13}</td>\n",
       "      <td>...</td>\n",
       "      <td>4</td>\n",
       "      <td>NaN</td>\n",
       "      <td>studentAgency</td>\n",
       "      <td>Student Agency</td>\n",
       "      <td>False</td>\n",
       "      <td>False</td>\n",
       "      <td>False</td>\n",
       "      <td>False</td>\n",
       "      <td>bus</td>\n",
       "      <td>1208.312305</td>\n",
       "    </tr>\n",
       "  </tbody>\n",
       "</table>\n",
       "<p>74168 rows × 24 columns</p>\n",
       "</div>"
      ],
      "text/plain": [
       "          id_x  company  o_station  d_station        departure_ts  \\\n",
       "0      6795025     8385        NaN        NaN 2017-10-13 14:00:00   \n",
       "1      6795030     8385        NaN        NaN 2017-10-06 05:30:00   \n",
       "2      6795031     8385        NaN        NaN 2017-10-06 07:00:42   \n",
       "3      6795032     8385        NaN        NaN 2017-10-06 07:10:00   \n",
       "4      6795033     8385        NaN        NaN 2017-10-06 10:00:00   \n",
       "...        ...      ...        ...        ...                 ...   \n",
       "74163  6848395       12      283.0     1595.0 2017-10-27 06:00:00   \n",
       "74164  6848396       12      283.0     1593.0 2017-10-27 06:00:00   \n",
       "74165  6852979       12      523.0       86.0 2017-10-30 21:30:00   \n",
       "74166  6853589       12      283.0      523.0 2017-12-22 18:30:00   \n",
       "74167  6856599       12      283.0      523.0 2017-11-03 18:30:00   \n",
       "\n",
       "               arrival_ts  price_in_cents                   search_ts  \\\n",
       "0     2017-10-13 20:10:00            4550  2017-10-01 00:13:31.327+00   \n",
       "1     2017-10-06 08:30:00            1800  2017-10-01 01:03:18.948+00   \n",
       "2     2017-10-06 09:30:42            2150  2017-10-01 01:03:18.948+00   \n",
       "3     2017-10-06 09:40:00            1700  2017-10-01 01:03:18.948+00   \n",
       "4     2017-10-06 12:50:00            1700  2017-10-01 01:03:18.948+00   \n",
       "...                   ...             ...                         ...   \n",
       "74163 2017-10-27 17:45:00            4687  2017-10-14 19:01:07.915+00   \n",
       "74164 2017-10-27 17:20:00            4777  2017-10-14 19:01:07.915+00   \n",
       "74165 2017-10-31 11:45:00            1990  2017-10-16 08:10:00.399+00   \n",
       "74166 2017-12-23 04:25:00            4590  2017-10-16 10:12:35.105+00   \n",
       "74167 2017-11-04 03:55:00            3300  2017-10-16 20:12:19.537+00   \n",
       "\n",
       "      middle_stations other_companies  ...  company_id  provider_id  \\\n",
       "0                 NaN             NaN  ...          11          NaN   \n",
       "1                 NaN             NaN  ...          11          NaN   \n",
       "2                 NaN             NaN  ...          11          NaN   \n",
       "3                 NaN             NaN  ...          11          NaN   \n",
       "4                 NaN             NaN  ...          11          NaN   \n",
       "...               ...             ...  ...         ...          ...   \n",
       "74163      {561,8813}            {71}  ...           4          NaN   \n",
       "74164       {561,561}            {71}  ...           4          NaN   \n",
       "74165       {458,458}            {13}  ...           4          NaN   \n",
       "74166       {330,330}            {13}  ...           4          NaN   \n",
       "74167       {330,330}            {13}  ...           4          NaN   \n",
       "\n",
       "                name        fullname  has_wifi has_plug has_adjustable_seats  \\\n",
       "0                bbc       Blablacar     False    False                False   \n",
       "1                bbc       Blablacar     False    False                False   \n",
       "2                bbc       Blablacar     False    False                False   \n",
       "3                bbc       Blablacar     False    False                False   \n",
       "4                bbc       Blablacar     False    False                False   \n",
       "...              ...             ...       ...      ...                  ...   \n",
       "74163  studentAgency  Student Agency     False    False                False   \n",
       "74164  studentAgency  Student Agency     False    False                False   \n",
       "74165  studentAgency  Student Agency     False    False                False   \n",
       "74166  studentAgency  Student Agency     False    False                False   \n",
       "74167  studentAgency  Student Agency     False    False                False   \n",
       "\n",
       "      has_bicycle transport_type     distance  \n",
       "0           False     carpooling   502.935701  \n",
       "1           False     carpooling   502.935701  \n",
       "2           False     carpooling   502.935701  \n",
       "3           False     carpooling   502.935701  \n",
       "4           False     carpooling   502.935701  \n",
       "...           ...            ...          ...  \n",
       "74163       False            bus  1208.312305  \n",
       "74164       False            bus  1208.312305  \n",
       "74165       False            bus  1208.312305  \n",
       "74166       False            bus  1208.312305  \n",
       "74167       False            bus  1208.312305  \n",
       "\n",
       "[74168 rows x 24 columns]"
      ]
     },
     "execution_count": 20,
     "metadata": {},
     "output_type": "execute_result"
    }
   ],
   "source": [
    "ticket_transport"
   ]
  },
  {
   "cell_type": "markdown",
   "id": "9a729db0",
   "metadata": {},
   "source": [
    "Cette donnée des distances est inexploitable en tant que telle pour la visualisation, on va préférer un regroupement par coupes selon plusieurs intervalles de distance (définis selon vos critères).\n",
    "On va regrouper tous ceux entre 0 et 200km, 201 et 800km, 801 et 2000km et +2001km."
   ]
  },
  {
   "cell_type": "code",
   "execution_count": 21,
   "id": "cd7369d5",
   "metadata": {},
   "outputs": [],
   "source": [
    "ticket_transport['distance_group'] = pd.cut(ticket_transport['distance'],bins=[0,200,800,2000,ticket_transport['distance'].max()],labels=['0-200km','201-800km','800-2000km','2000+km'])"
   ]
  },
  {
   "cell_type": "markdown",
   "id": "e3ea5dfa",
   "metadata": {},
   "source": [
    "Le regroupement fait, on peut maintenant voir la différence du prix en fonction du mode de transport et de la distance.\n",
    "Le tableau nous permet de voir qu'il n'y a pas de trajet de plus de 2000km en bus et covoiturage (heuresement).\n",
    "Seul le train semble avoir un prix progressif par rapport à la distance, alors que le covoiturage semble être dégressif et le bus presque inchangé."
   ]
  },
  {
   "cell_type": "code",
   "execution_count": 22,
   "id": "949df9e3",
   "metadata": {},
   "outputs": [
    {
     "data": {
      "text/html": [
       "<div>\n",
       "<style scoped>\n",
       "    .dataframe tbody tr th:only-of-type {\n",
       "        vertical-align: middle;\n",
       "    }\n",
       "\n",
       "    .dataframe tbody tr th {\n",
       "        vertical-align: top;\n",
       "    }\n",
       "\n",
       "    .dataframe thead th {\n",
       "        text-align: right;\n",
       "    }\n",
       "</style>\n",
       "<table border=\"1\" class=\"dataframe\">\n",
       "  <thead>\n",
       "    <tr style=\"text-align: right;\">\n",
       "      <th></th>\n",
       "      <th></th>\n",
       "      <th>mean</th>\n",
       "      <th>max</th>\n",
       "      <th>min</th>\n",
       "    </tr>\n",
       "    <tr>\n",
       "      <th>distance_group</th>\n",
       "      <th>transport_type</th>\n",
       "      <th></th>\n",
       "      <th></th>\n",
       "      <th></th>\n",
       "    </tr>\n",
       "  </thead>\n",
       "  <tbody>\n",
       "    <tr>\n",
       "      <th rowspan=\"3\" valign=\"top\">0-200km</th>\n",
       "      <th>bus</th>\n",
       "      <td>3834.840000</td>\n",
       "      <td>22450.0</td>\n",
       "      <td>850.0</td>\n",
       "    </tr>\n",
       "    <tr>\n",
       "      <th>carpooling</th>\n",
       "      <td>3138.823529</td>\n",
       "      <td>6150.0</td>\n",
       "      <td>1450.0</td>\n",
       "    </tr>\n",
       "    <tr>\n",
       "      <th>train</th>\n",
       "      <td>8092.402235</td>\n",
       "      <td>38550.0</td>\n",
       "      <td>1210.0</td>\n",
       "    </tr>\n",
       "    <tr>\n",
       "      <th rowspan=\"3\" valign=\"top\">201-800km</th>\n",
       "      <th>bus</th>\n",
       "      <td>3622.643659</td>\n",
       "      <td>22900.0</td>\n",
       "      <td>850.0</td>\n",
       "    </tr>\n",
       "    <tr>\n",
       "      <th>carpooling</th>\n",
       "      <td>2758.532199</td>\n",
       "      <td>13100.0</td>\n",
       "      <td>300.0</td>\n",
       "    </tr>\n",
       "    <tr>\n",
       "      <th>train</th>\n",
       "      <td>8520.556293</td>\n",
       "      <td>37550.0</td>\n",
       "      <td>490.0</td>\n",
       "    </tr>\n",
       "    <tr>\n",
       "      <th rowspan=\"3\" valign=\"top\">800-2000km</th>\n",
       "      <th>bus</th>\n",
       "      <td>3933.184727</td>\n",
       "      <td>16540.0</td>\n",
       "      <td>1000.0</td>\n",
       "    </tr>\n",
       "    <tr>\n",
       "      <th>carpooling</th>\n",
       "      <td>1664.102564</td>\n",
       "      <td>2150.0</td>\n",
       "      <td>1200.0</td>\n",
       "    </tr>\n",
       "    <tr>\n",
       "      <th>train</th>\n",
       "      <td>9188.992874</td>\n",
       "      <td>33300.0</td>\n",
       "      <td>1070.0</td>\n",
       "    </tr>\n",
       "    <tr>\n",
       "      <th rowspan=\"3\" valign=\"top\">2000+km</th>\n",
       "      <th>bus</th>\n",
       "      <td>NaN</td>\n",
       "      <td>NaN</td>\n",
       "      <td>NaN</td>\n",
       "    </tr>\n",
       "    <tr>\n",
       "      <th>carpooling</th>\n",
       "      <td>NaN</td>\n",
       "      <td>NaN</td>\n",
       "      <td>NaN</td>\n",
       "    </tr>\n",
       "    <tr>\n",
       "      <th>train</th>\n",
       "      <td>27650.000000</td>\n",
       "      <td>27650.0</td>\n",
       "      <td>27650.0</td>\n",
       "    </tr>\n",
       "  </tbody>\n",
       "</table>\n",
       "</div>"
      ],
      "text/plain": [
       "                                       mean      max      min\n",
       "distance_group transport_type                                \n",
       "0-200km        bus              3834.840000  22450.0    850.0\n",
       "               carpooling       3138.823529   6150.0   1450.0\n",
       "               train            8092.402235  38550.0   1210.0\n",
       "201-800km      bus              3622.643659  22900.0    850.0\n",
       "               carpooling       2758.532199  13100.0    300.0\n",
       "               train            8520.556293  37550.0    490.0\n",
       "800-2000km     bus              3933.184727  16540.0   1000.0\n",
       "               carpooling       1664.102564   2150.0   1200.0\n",
       "               train            9188.992874  33300.0   1070.0\n",
       "2000+km        bus                      NaN      NaN      NaN\n",
       "               carpooling               NaN      NaN      NaN\n",
       "               train           27650.000000  27650.0  27650.0"
      ]
     },
     "execution_count": 22,
     "metadata": {},
     "output_type": "execute_result"
    }
   ],
   "source": [
    "ticket_transport.groupby(['distance_group','transport_type'])['price_in_cents'].agg(['mean',max,min])"
   ]
  },
  {
   "cell_type": "markdown",
   "id": "b40b6288",
   "metadata": {},
   "source": [
    "## Les types de transports et leurs caractéristiques."
   ]
  },
  {
   "cell_type": "markdown",
   "id": "73f2e33a",
   "metadata": {},
   "source": [
    "Maintenant que le minimum des taches a été fait, je vais principalement faire des graphiques. La première partie va s'axer sur les compagnies de transport.\n",
    "On peut d'abord faire un groupement assez moche (mais utile) qui permet de savoir quels types de transports ont quelles caractéristiques."
   ]
  },
  {
   "cell_type": "markdown",
   "id": "61081336",
   "metadata": {},
   "source": [
    "Ici on voit que le covoiturage n'a ni wifi, ni siège ajustable, ni prise et ni vélo, ce qui parait normal.\n",
    "Le bus ne transporte pas de vélo, et que s'il n'a pas de wifi il n'a pas de prise."
   ]
  },
  {
   "cell_type": "code",
   "execution_count": 23,
   "id": "7416d4dd",
   "metadata": {},
   "outputs": [
    {
     "name": "stderr",
     "output_type": "stream",
     "text": [
      "C:\\Users\\gabriel\\AppData\\Local\\Temp/ipykernel_17916/348559991.py:1: FutureWarning: Indexing with multiple keys (implicitly converted to a tuple of keys) will be deprecated, use a list instead.\n",
      "  ticket_transport.groupby('transport_type')[\"has_wifi\",\"has_plug\",\"has_adjustable_seats\",\"has_bicycle\"].value_counts()\n"
     ]
    },
    {
     "data": {
      "text/plain": [
       "transport_type  has_wifi  has_plug  has_adjustable_seats  has_bicycle\n",
       "bus             True      False     False                 False           7433\n",
       "                          True      True                  False           5167\n",
       "                False     False     True                  False            895\n",
       "                                    False                 False            287\n",
       "carpooling      False     False     False                 False          41441\n",
       "train           False     False     True                  False          18133\n",
       "                True      True      False                 True             796\n",
       "dtype: int64"
      ]
     },
     "execution_count": 23,
     "metadata": {},
     "output_type": "execute_result"
    }
   ],
   "source": [
    "ticket_transport.groupby('transport_type')[\"has_wifi\",\"has_plug\",\"has_adjustable_seats\",\"has_bicycle\"].value_counts()"
   ]
  },
  {
   "cell_type": "markdown",
   "id": "f43457f6",
   "metadata": {},
   "source": [
    "Aussi on peut se demander quels sont les transport les plus utilisés dans le jeu de données.\n",
    "Le covoiturage domine le bus et le train."
   ]
  },
  {
   "cell_type": "code",
   "execution_count": 24,
   "id": "8cdc9c9e",
   "metadata": {},
   "outputs": [
    {
     "data": {
      "text/plain": [
       "<AxesSubplot:xlabel='transport_type', ylabel='count'>"
      ]
     },
     "execution_count": 24,
     "metadata": {},
     "output_type": "execute_result"
    },
    {
     "data": {
      "image/png": "[encoded data removed]",
      "text/plain": [
       "<Figure size 432x288 with 1 Axes>"
      ]
     },
     "metadata": {
      "needs_background": "light"
     },
     "output_type": "display_data"
    }
   ],
   "source": [
    "sns.countplot(x=ticket_transport['transport_type'])"
   ]
  },
  {
   "cell_type": "markdown",
   "id": "dde3ebbb",
   "metadata": {},
   "source": [
    "## Distance"
   ]
  },
  {
   "cell_type": "markdown",
   "id": "89971a3b",
   "metadata": {},
   "source": [
    "On peut essayer de trouver des informations sur la distance maintenant qu'elle est calculée.\n",
    "Sa distribution est comme le prix : loin d'être normale et centrée.\n",
    "La distance moyenne est aux environs de 400 km."
   ]
  },
  {
   "cell_type": "code",
   "execution_count": 25,
   "id": "24284a53",
   "metadata": {},
   "outputs": [
    {
     "data": {
      "text/plain": [
       "<AxesSubplot:>"
      ]
     },
     "execution_count": 25,
     "metadata": {},
     "output_type": "execute_result"
    },
    {
     "data": {
      "image/png": "[encoded data removed]",
      "text/plain": [
       "<Figure size 432x288 with 1 Axes>"
      ]
     },
     "metadata": {
      "needs_background": "light"
     },
     "output_type": "display_data"
    }
   ],
   "source": [
    "ticket_transport['distance'].hist()"
   ]
  },
  {
   "cell_type": "markdown",
   "id": "f473b470",
   "metadata": {},
   "source": [
    "Toujours en rapport avec les distances, on peut se demander s'il y a corrélation entre prix et distance.\n",
    "Malheuresement quasiment pas, on peut voir un assez gros regroupement entre 0 et 1000km et 0 et 20000 cents nous indiquant que la distance et le prix n'ont pas forcément de lien. Une corrélation positive auraiet été l'idéal, à ce moment on aurait dû observer une pente croissante."
   ]
  },
  {
   "cell_type": "code",
   "execution_count": 26,
   "id": "073c63d7",
   "metadata": {},
   "outputs": [
    {
     "data": {
      "text/plain": [
       "<AxesSubplot:xlabel='price_in_cents', ylabel='distance'>"
      ]
     },
     "execution_count": 26,
     "metadata": {},
     "output_type": "execute_result"
    },
    {
     "data": {
      "image/png": "[encoded data removed]",
      "text/plain": [
       "<Figure size 432x288 with 1 Axes>"
      ]
     },
     "metadata": {
      "needs_background": "light"
     },
     "output_type": "display_data"
    }
   ],
   "source": [
    "sns.scatterplot(x=ticket_transport['price_in_cents'],y=ticket_transport['distance'])"
   ]
  },
  {
   "cell_type": "markdown",
   "id": "ccfc3e8b",
   "metadata": {},
   "source": [
    "### Type de transport et prix"
   ]
  },
  {
   "cell_type": "markdown",
   "id": "d70f26f8",
   "metadata": {},
   "source": [
    "La question s'était déjà posée entre le prix et le type de transport, mais un boxplot permet de bien mieux comprendre. La présence d'outliers comme supposé est évidente dans chacune des 3 catégories. De plus cette représentation nous montre clairement la différence de prix entre le covoiturage et le train, et une moyenne de prix quasi similaire entre le covoiturage et le bus."
   ]
  },
  {
   "cell_type": "code",
   "execution_count": 27,
   "id": "bea92880",
   "metadata": {},
   "outputs": [
    {
     "data": {
      "text/plain": [
       "<AxesSubplot:xlabel='transport_type', ylabel='price_in_cents'>"
      ]
     },
     "execution_count": 27,
     "metadata": {},
     "output_type": "execute_result"
    },
    {
     "data": {
      "image/png": "[encoded data removed]",
      "text/plain": [
       "<Figure size 432x288 with 1 Axes>"
      ]
     },
     "metadata": {
      "needs_background": "light"
     },
     "output_type": "display_data"
    }
   ],
   "source": [
    "sns.boxplot(data=ticket_transport,x='transport_type',y='price_in_cents')"
   ]
  },
  {
   "cell_type": "markdown",
   "id": "d623e049",
   "metadata": {},
   "source": [
    "## Données temporelle et géolocalisées"
   ]
  },
  {
   "cell_type": "markdown",
   "id": "4c43453f",
   "metadata": {},
   "source": [
    "On peut aussi se demander s'il y a une date de départ préférée par les utilisateurs. Et la conclusion est sans appels, le mois d'Octobre est de loin le plus actifs dans les voyages."
   ]
  },
  {
   "cell_type": "code",
   "execution_count": 28,
   "id": "1e590884",
   "metadata": {},
   "outputs": [
    {
     "data": {
      "text/plain": [
       "<AxesSubplot:>"
      ]
     },
     "execution_count": 28,
     "metadata": {},
     "output_type": "execute_result"
    },
    {
     "data": {
      "image/png": "[encoded data removed]",
      "text/plain": [
       "<Figure size 432x288 with 1 Axes>"
      ]
     },
     "metadata": {
      "needs_background": "light"
     },
     "output_type": "display_data"
    }
   ],
   "source": [
    "ticket_transport[\"departure_ts\"].dt.month_name().value_counts().plot(kind=\"bar\")"
   ]
  },
  {
   "cell_type": "markdown",
   "id": "a2aee66f",
   "metadata": {},
   "source": [
    "Savoir de quelles villes d'où viennent les départs de transports (tous confondus), et c'est Paris la grande vainqueur avec une domination sans pareille du nombre de départ, suivi de Lyon et Bordeaux."
   ]
  },
  {
   "cell_type": "code",
   "execution_count": 29,
   "id": "5de2dfd5",
   "metadata": {},
   "outputs": [
    {
     "data": {
      "text/plain": [
       "<AxesSubplot:>"
      ]
     },
     "execution_count": 29,
     "metadata": {},
     "output_type": "execute_result"
    },
    {
     "data": {
      "image/png": "[encoded data removed]",
      "text/plain": [
       "<Figure size 432x288 with 1 Axes>"
      ]
     },
     "metadata": {
      "needs_background": "light"
     },
     "output_type": "display_data"
    }
   ],
   "source": [
    "origin_city.local_name.value_counts()[:20].plot(kind=\"bar\")"
   ]
  },
  {
   "cell_type": "markdown",
   "id": "2f257016",
   "metadata": {},
   "source": [
    "Et la même chose peut se faire avec la destination, une fois de plus Paris et en tête suivie de Lille et Lyon."
   ]
  },
  {
   "cell_type": "code",
   "execution_count": 30,
   "id": "c0b8ce63",
   "metadata": {},
   "outputs": [
    {
     "data": {
      "text/plain": [
       "<AxesSubplot:>"
      ]
     },
     "execution_count": 30,
     "metadata": {},
     "output_type": "execute_result"
    },
    {
     "data": {
      "image/png": "[encoded data removed]",
      "text/plain": [
       "<Figure size 432x288 with 1 Axes>"
      ]
     },
     "metadata": {
      "needs_background": "light"
     },
     "output_type": "display_data"
    }
   ],
   "source": [
    "destination_city.local_name.value_counts()[:20].plot(kind=\"bar\")"
   ]
  },
  {
   "cell_type": "markdown",
   "id": "7d89b8ec",
   "metadata": {},
   "source": [
    "## Lien entre ville et prix ?"
   ]
  },
  {
   "cell_type": "markdown",
   "id": "681fcd7e",
   "metadata": {},
   "source": [
    "La question est légitime, il y a-t-il une relation entre ville de départ et le prix ?\n",
    "Eh bien la réponse est assez décevante, car si l'id des villes se situe en abscisse on peut voir que le prix diffère peu artout sauf à un endroit.\n",
    "Les villes dont l'id se situe entre 3700 et +12000 semble ne pas avoir de corrélation avec le prix, néanmoins on discerne 2 clusters :\n",
    "- Les villes dont l'id est compris entre 0 et 3500\n",
    "- Les villes dont l'id dest supérieur à 3500\n",
    "\n",
    "La variance du prix est bien plus importante pour les ville de la première catégorie.\n",
    "\n",
    "Donc non il n'y a pas de lien entre ville et prix du transport, mais cela nous a permis de voir qu'un regroupement était faisable pour séparer ces villes."
   ]
  },
  {
   "cell_type": "code",
   "execution_count": 31,
   "id": "e03810f9",
   "metadata": {},
   "outputs": [
    {
     "data": {
      "text/plain": [
       "<matplotlib.collections.PathCollection at 0x1cf69764d90>"
      ]
     },
     "execution_count": 31,
     "metadata": {},
     "output_type": "execute_result"
    },
    {
     "data": {
      "image/png": "[encoded data removed]",
      "text/plain": [
       "<Figure size 432x288 with 1 Axes>"
      ]
     },
     "metadata": {
      "needs_background": "light"
     },
     "output_type": "display_data"
    }
   ],
   "source": [
    "plt.scatter(ticket_transport[['o_city']],y=ticket_transport[['price_in_cents']])"
   ]
  },
  {
   "cell_type": "markdown",
   "id": "205ab8b6",
   "metadata": {},
   "source": [
    "Pour confirmer que l'observation est correcte on peut rajouter la dimension de la distance, qui nous montre que ville, prix et distance semble décorrélée à l'exception d'un clustering faisable sur 2 parties des villes comme dans le graphique du dessus."
   ]
  },
  {
   "cell_type": "code",
   "execution_count": 32,
   "id": "c476cec7",
   "metadata": {},
   "outputs": [
    {
     "data": {
      "text/plain": [
       "<AxesSubplot:xlabel='o_city', ylabel='price_in_cents'>"
      ]
     },
     "execution_count": 32,
     "metadata": {},
     "output_type": "execute_result"
    },
    {
     "data": {
      "image/png": "[encoded data removed]",
      "text/plain": [
       "<Figure size 432x288 with 1 Axes>"
      ]
     },
     "metadata": {
      "needs_background": "light"
     },
     "output_type": "display_data"
    }
   ],
   "source": [
    "sns.scatterplot(data=ticket_transport,x='o_city',y='price_in_cents',hue=\"distance_group\")"
   ]
  },
  {
   "cell_type": "markdown",
   "id": "70e92702",
   "metadata": {},
   "source": [
    "Dans la meme veine que ces 2 précédents graphes, on peut essayer de déceler un potentiel lien entre durée et prix ce qui pourrait aussi paraitre logique. Malheuresement encore une fois sur tous transports confondus il ne semble pas y avoir de liens, meme si la durée augmente la prix du transport ne semble pas augmenter."
   ]
  },
  {
   "cell_type": "code",
   "execution_count": 33,
   "id": "a1505071",
   "metadata": {},
   "outputs": [
    {
     "data": {
      "text/plain": [
       "<AxesSubplot:xlabel='durée', ylabel='price_in_cents'>"
      ]
     },
     "execution_count": 33,
     "metadata": {},
     "output_type": "execute_result"
    },
    {
     "data": {
      "image/png": "[encoded data removed]",
      "text/plain": [
       "<Figure size 432x288 with 1 Axes>"
      ]
     },
     "metadata": {
      "needs_background": "light"
     },
     "output_type": "display_data"
    }
   ],
   "source": [
    "sns.scatterplot(data=ticket_transport,x='durée',y='price_in_cents')"
   ]
  },
  {
   "cell_type": "markdown",
   "id": "f161a382",
   "metadata": {},
   "source": [
    "Pour finir dans cette partie, on pourrait refaire la même chose avec la date de départ et le prix.\n",
    "Toujours aucune réelle corrélation entre date de départ et prix."
   ]
  },
  {
   "cell_type": "code",
   "execution_count": 34,
   "id": "b0f2f40a",
   "metadata": {},
   "outputs": [
    {
     "data": {
      "text/plain": [
       "<AxesSubplot:xlabel='departure_ts', ylabel='price_in_cents'>"
      ]
     },
     "execution_count": 34,
     "metadata": {},
     "output_type": "execute_result"
    },
    {
     "data": {
      "image/png": "[encoded data removed]",
      "text/plain": [
       "<Figure size 432x288 with 1 Axes>"
      ]
     },
     "metadata": {
      "needs_background": "light"
     },
     "output_type": "display_data"
    }
   ],
   "source": [
    "sns.scatterplot(data=ticket_transport,x='departure_ts',y='price_in_cents')"
   ]
  },
  {
   "cell_type": "markdown",
   "id": "6ead7ea4",
   "metadata": {},
   "source": [
    "## Modèle prédictif du prix"
   ]
  },
  {
   "cell_type": "markdown",
   "id": "d4e4231d",
   "metadata": {},
   "source": [
    "Voilà pourquoi j'ai fais plus de graphique sur le prix.\n",
    "C'était certes une idée proposée, mais j'avais hâte de l'essayer et l'aurais fait même si c'était pas dit.\n",
    "Le prix semble être une des seules variables pour laquelle une prédiction serait cohérente, on est donc face à un problème de régression.\n",
    "\n",
    "Et tout de suite je vais faire quelque chose : retirer des variables dont je ne me servirai pas !\n",
    "- id_y, id_x des résidus lors des différents 'merge' faits\n",
    "- o_city et d_city car je vais me servir de la distance entre ces 2 villes\n",
    "- departure_ts, arrival_ts car ces données ne semblent pas avoir d'influence sur le prix, je ne vais donc garder que la durée.\n",
    "- search_ts car selon moi ca n'a pas d'impact sur un prix (à moins que l'affluence un jour k impact le prix sur le jour k+1 ? Quelque chose à vérifier alors)\n",
    "- company_id, company, provider_id pour ne garder que le nom de l'entreprise\n",
    "- distance_group pour ne garder que la distance\n",
    "\n",
    "#### Choix pouvant être changé\n",
    "Je décide de ne pas garder aussi o_station et d_station.\n",
    "Pourquoi ? Je ne sais pas vraiment, à ce moment il faudrait remplacer o_city et d_city par ces nouvelles variales et refaire une jointure de table pour en obtenir de plus amples informations. Etant donné qu'il manque des données pour ces 2 variables, on aurait pu faire une imputation par mode (car pas numérique) en simple, ou en fonction des d_city et o_city pour être plus correcte."
   ]
  },
  {
   "cell_type": "code",
   "execution_count": 35,
   "id": "efa4096e",
   "metadata": {},
   "outputs": [
    {
     "data": {
      "text/html": [
       "<div>\n",
       "<style scoped>\n",
       "    .dataframe tbody tr th:only-of-type {\n",
       "        vertical-align: middle;\n",
       "    }\n",
       "\n",
       "    .dataframe tbody tr th {\n",
       "        vertical-align: top;\n",
       "    }\n",
       "\n",
       "    .dataframe thead th {\n",
       "        text-align: right;\n",
       "    }\n",
       "</style>\n",
       "<table border=\"1\" class=\"dataframe\">\n",
       "  <thead>\n",
       "    <tr style=\"text-align: right;\">\n",
       "      <th></th>\n",
       "      <th>id_x</th>\n",
       "      <th>company</th>\n",
       "      <th>o_station</th>\n",
       "      <th>d_station</th>\n",
       "      <th>departure_ts</th>\n",
       "      <th>arrival_ts</th>\n",
       "      <th>price_in_cents</th>\n",
       "      <th>search_ts</th>\n",
       "      <th>middle_stations</th>\n",
       "      <th>other_companies</th>\n",
       "      <th>...</th>\n",
       "      <th>provider_id</th>\n",
       "      <th>name</th>\n",
       "      <th>fullname</th>\n",
       "      <th>has_wifi</th>\n",
       "      <th>has_plug</th>\n",
       "      <th>has_adjustable_seats</th>\n",
       "      <th>has_bicycle</th>\n",
       "      <th>transport_type</th>\n",
       "      <th>distance</th>\n",
       "      <th>distance_group</th>\n",
       "    </tr>\n",
       "  </thead>\n",
       "  <tbody>\n",
       "    <tr>\n",
       "      <th>0</th>\n",
       "      <td>6795025</td>\n",
       "      <td>8385</td>\n",
       "      <td>NaN</td>\n",
       "      <td>NaN</td>\n",
       "      <td>2017-10-13 14:00:00</td>\n",
       "      <td>2017-10-13 20:10:00</td>\n",
       "      <td>4550</td>\n",
       "      <td>2017-10-01 00:13:31.327+00</td>\n",
       "      <td>NaN</td>\n",
       "      <td>NaN</td>\n",
       "      <td>...</td>\n",
       "      <td>NaN</td>\n",
       "      <td>bbc</td>\n",
       "      <td>Blablacar</td>\n",
       "      <td>False</td>\n",
       "      <td>False</td>\n",
       "      <td>False</td>\n",
       "      <td>False</td>\n",
       "      <td>carpooling</td>\n",
       "      <td>502.935701</td>\n",
       "      <td>201-800km</td>\n",
       "    </tr>\n",
       "    <tr>\n",
       "      <th>1</th>\n",
       "      <td>6795030</td>\n",
       "      <td>8385</td>\n",
       "      <td>NaN</td>\n",
       "      <td>NaN</td>\n",
       "      <td>2017-10-06 05:30:00</td>\n",
       "      <td>2017-10-06 08:30:00</td>\n",
       "      <td>1800</td>\n",
       "      <td>2017-10-01 01:03:18.948+00</td>\n",
       "      <td>NaN</td>\n",
       "      <td>NaN</td>\n",
       "      <td>...</td>\n",
       "      <td>NaN</td>\n",
       "      <td>bbc</td>\n",
       "      <td>Blablacar</td>\n",
       "      <td>False</td>\n",
       "      <td>False</td>\n",
       "      <td>False</td>\n",
       "      <td>False</td>\n",
       "      <td>carpooling</td>\n",
       "      <td>502.935701</td>\n",
       "      <td>201-800km</td>\n",
       "    </tr>\n",
       "    <tr>\n",
       "      <th>2</th>\n",
       "      <td>6795031</td>\n",
       "      <td>8385</td>\n",
       "      <td>NaN</td>\n",
       "      <td>NaN</td>\n",
       "      <td>2017-10-06 07:00:42</td>\n",
       "      <td>2017-10-06 09:30:42</td>\n",
       "      <td>2150</td>\n",
       "      <td>2017-10-01 01:03:18.948+00</td>\n",
       "      <td>NaN</td>\n",
       "      <td>NaN</td>\n",
       "      <td>...</td>\n",
       "      <td>NaN</td>\n",
       "      <td>bbc</td>\n",
       "      <td>Blablacar</td>\n",
       "      <td>False</td>\n",
       "      <td>False</td>\n",
       "      <td>False</td>\n",
       "      <td>False</td>\n",
       "      <td>carpooling</td>\n",
       "      <td>502.935701</td>\n",
       "      <td>201-800km</td>\n",
       "    </tr>\n",
       "    <tr>\n",
       "      <th>3</th>\n",
       "      <td>6795032</td>\n",
       "      <td>8385</td>\n",
       "      <td>NaN</td>\n",
       "      <td>NaN</td>\n",
       "      <td>2017-10-06 07:10:00</td>\n",
       "      <td>2017-10-06 09:40:00</td>\n",
       "      <td>1700</td>\n",
       "      <td>2017-10-01 01:03:18.948+00</td>\n",
       "      <td>NaN</td>\n",
       "      <td>NaN</td>\n",
       "      <td>...</td>\n",
       "      <td>NaN</td>\n",
       "      <td>bbc</td>\n",
       "      <td>Blablacar</td>\n",
       "      <td>False</td>\n",
       "      <td>False</td>\n",
       "      <td>False</td>\n",
       "      <td>False</td>\n",
       "      <td>carpooling</td>\n",
       "      <td>502.935701</td>\n",
       "      <td>201-800km</td>\n",
       "    </tr>\n",
       "    <tr>\n",
       "      <th>4</th>\n",
       "      <td>6795033</td>\n",
       "      <td>8385</td>\n",
       "      <td>NaN</td>\n",
       "      <td>NaN</td>\n",
       "      <td>2017-10-06 10:00:00</td>\n",
       "      <td>2017-10-06 12:50:00</td>\n",
       "      <td>1700</td>\n",
       "      <td>2017-10-01 01:03:18.948+00</td>\n",
       "      <td>NaN</td>\n",
       "      <td>NaN</td>\n",
       "      <td>...</td>\n",
       "      <td>NaN</td>\n",
       "      <td>bbc</td>\n",
       "      <td>Blablacar</td>\n",
       "      <td>False</td>\n",
       "      <td>False</td>\n",
       "      <td>False</td>\n",
       "      <td>False</td>\n",
       "      <td>carpooling</td>\n",
       "      <td>502.935701</td>\n",
       "      <td>201-800km</td>\n",
       "    </tr>\n",
       "    <tr>\n",
       "      <th>...</th>\n",
       "      <td>...</td>\n",
       "      <td>...</td>\n",
       "      <td>...</td>\n",
       "      <td>...</td>\n",
       "      <td>...</td>\n",
       "      <td>...</td>\n",
       "      <td>...</td>\n",
       "      <td>...</td>\n",
       "      <td>...</td>\n",
       "      <td>...</td>\n",
       "      <td>...</td>\n",
       "      <td>...</td>\n",
       "      <td>...</td>\n",
       "      <td>...</td>\n",
       "      <td>...</td>\n",
       "      <td>...</td>\n",
       "      <td>...</td>\n",
       "      <td>...</td>\n",
       "      <td>...</td>\n",
       "      <td>...</td>\n",
       "      <td>...</td>\n",
       "    </tr>\n",
       "    <tr>\n",
       "      <th>74163</th>\n",
       "      <td>6848395</td>\n",
       "      <td>12</td>\n",
       "      <td>283.0</td>\n",
       "      <td>1595.0</td>\n",
       "      <td>2017-10-27 06:00:00</td>\n",
       "      <td>2017-10-27 17:45:00</td>\n",
       "      <td>4687</td>\n",
       "      <td>2017-10-14 19:01:07.915+00</td>\n",
       "      <td>{561,8813}</td>\n",
       "      <td>{71}</td>\n",
       "      <td>...</td>\n",
       "      <td>NaN</td>\n",
       "      <td>studentAgency</td>\n",
       "      <td>Student Agency</td>\n",
       "      <td>False</td>\n",
       "      <td>False</td>\n",
       "      <td>False</td>\n",
       "      <td>False</td>\n",
       "      <td>bus</td>\n",
       "      <td>1208.312305</td>\n",
       "      <td>800-2000km</td>\n",
       "    </tr>\n",
       "    <tr>\n",
       "      <th>74164</th>\n",
       "      <td>6848396</td>\n",
       "      <td>12</td>\n",
       "      <td>283.0</td>\n",
       "      <td>1593.0</td>\n",
       "      <td>2017-10-27 06:00:00</td>\n",
       "      <td>2017-10-27 17:20:00</td>\n",
       "      <td>4777</td>\n",
       "      <td>2017-10-14 19:01:07.915+00</td>\n",
       "      <td>{561,561}</td>\n",
       "      <td>{71}</td>\n",
       "      <td>...</td>\n",
       "      <td>NaN</td>\n",
       "      <td>studentAgency</td>\n",
       "      <td>Student Agency</td>\n",
       "      <td>False</td>\n",
       "      <td>False</td>\n",
       "      <td>False</td>\n",
       "      <td>False</td>\n",
       "      <td>bus</td>\n",
       "      <td>1208.312305</td>\n",
       "      <td>800-2000km</td>\n",
       "    </tr>\n",
       "    <tr>\n",
       "      <th>74165</th>\n",
       "      <td>6852979</td>\n",
       "      <td>12</td>\n",
       "      <td>523.0</td>\n",
       "      <td>86.0</td>\n",
       "      <td>2017-10-30 21:30:00</td>\n",
       "      <td>2017-10-31 11:45:00</td>\n",
       "      <td>1990</td>\n",
       "      <td>2017-10-16 08:10:00.399+00</td>\n",
       "      <td>{458,458}</td>\n",
       "      <td>{13}</td>\n",
       "      <td>...</td>\n",
       "      <td>NaN</td>\n",
       "      <td>studentAgency</td>\n",
       "      <td>Student Agency</td>\n",
       "      <td>False</td>\n",
       "      <td>False</td>\n",
       "      <td>False</td>\n",
       "      <td>False</td>\n",
       "      <td>bus</td>\n",
       "      <td>1208.312305</td>\n",
       "      <td>800-2000km</td>\n",
       "    </tr>\n",
       "    <tr>\n",
       "      <th>74166</th>\n",
       "      <td>6853589</td>\n",
       "      <td>12</td>\n",
       "      <td>283.0</td>\n",
       "      <td>523.0</td>\n",
       "      <td>2017-12-22 18:30:00</td>\n",
       "      <td>2017-12-23 04:25:00</td>\n",
       "      <td>4590</td>\n",
       "      <td>2017-10-16 10:12:35.105+00</td>\n",
       "      <td>{330,330}</td>\n",
       "      <td>{13}</td>\n",
       "      <td>...</td>\n",
       "      <td>NaN</td>\n",
       "      <td>studentAgency</td>\n",
       "      <td>Student Agency</td>\n",
       "      <td>False</td>\n",
       "      <td>False</td>\n",
       "      <td>False</td>\n",
       "      <td>False</td>\n",
       "      <td>bus</td>\n",
       "      <td>1208.312305</td>\n",
       "      <td>800-2000km</td>\n",
       "    </tr>\n",
       "    <tr>\n",
       "      <th>74167</th>\n",
       "      <td>6856599</td>\n",
       "      <td>12</td>\n",
       "      <td>283.0</td>\n",
       "      <td>523.0</td>\n",
       "      <td>2017-11-03 18:30:00</td>\n",
       "      <td>2017-11-04 03:55:00</td>\n",
       "      <td>3300</td>\n",
       "      <td>2017-10-16 20:12:19.537+00</td>\n",
       "      <td>{330,330}</td>\n",
       "      <td>{13}</td>\n",
       "      <td>...</td>\n",
       "      <td>NaN</td>\n",
       "      <td>studentAgency</td>\n",
       "      <td>Student Agency</td>\n",
       "      <td>False</td>\n",
       "      <td>False</td>\n",
       "      <td>False</td>\n",
       "      <td>False</td>\n",
       "      <td>bus</td>\n",
       "      <td>1208.312305</td>\n",
       "      <td>800-2000km</td>\n",
       "    </tr>\n",
       "  </tbody>\n",
       "</table>\n",
       "<p>74168 rows × 25 columns</p>\n",
       "</div>"
      ],
      "text/plain": [
       "          id_x  company  o_station  d_station        departure_ts  \\\n",
       "0      6795025     8385        NaN        NaN 2017-10-13 14:00:00   \n",
       "1      6795030     8385        NaN        NaN 2017-10-06 05:30:00   \n",
       "2      6795031     8385        NaN        NaN 2017-10-06 07:00:42   \n",
       "3      6795032     8385        NaN        NaN 2017-10-06 07:10:00   \n",
       "4      6795033     8385        NaN        NaN 2017-10-06 10:00:00   \n",
       "...        ...      ...        ...        ...                 ...   \n",
       "74163  6848395       12      283.0     1595.0 2017-10-27 06:00:00   \n",
       "74164  6848396       12      283.0     1593.0 2017-10-27 06:00:00   \n",
       "74165  6852979       12      523.0       86.0 2017-10-30 21:30:00   \n",
       "74166  6853589       12      283.0      523.0 2017-12-22 18:30:00   \n",
       "74167  6856599       12      283.0      523.0 2017-11-03 18:30:00   \n",
       "\n",
       "               arrival_ts  price_in_cents                   search_ts  \\\n",
       "0     2017-10-13 20:10:00            4550  2017-10-01 00:13:31.327+00   \n",
       "1     2017-10-06 08:30:00            1800  2017-10-01 01:03:18.948+00   \n",
       "2     2017-10-06 09:30:42            2150  2017-10-01 01:03:18.948+00   \n",
       "3     2017-10-06 09:40:00            1700  2017-10-01 01:03:18.948+00   \n",
       "4     2017-10-06 12:50:00            1700  2017-10-01 01:03:18.948+00   \n",
       "...                   ...             ...                         ...   \n",
       "74163 2017-10-27 17:45:00            4687  2017-10-14 19:01:07.915+00   \n",
       "74164 2017-10-27 17:20:00            4777  2017-10-14 19:01:07.915+00   \n",
       "74165 2017-10-31 11:45:00            1990  2017-10-16 08:10:00.399+00   \n",
       "74166 2017-12-23 04:25:00            4590  2017-10-16 10:12:35.105+00   \n",
       "74167 2017-11-04 03:55:00            3300  2017-10-16 20:12:19.537+00   \n",
       "\n",
       "      middle_stations other_companies  ...  provider_id           name  \\\n",
       "0                 NaN             NaN  ...          NaN            bbc   \n",
       "1                 NaN             NaN  ...          NaN            bbc   \n",
       "2                 NaN             NaN  ...          NaN            bbc   \n",
       "3                 NaN             NaN  ...          NaN            bbc   \n",
       "4                 NaN             NaN  ...          NaN            bbc   \n",
       "...               ...             ...  ...          ...            ...   \n",
       "74163      {561,8813}            {71}  ...          NaN  studentAgency   \n",
       "74164       {561,561}            {71}  ...          NaN  studentAgency   \n",
       "74165       {458,458}            {13}  ...          NaN  studentAgency   \n",
       "74166       {330,330}            {13}  ...          NaN  studentAgency   \n",
       "74167       {330,330}            {13}  ...          NaN  studentAgency   \n",
       "\n",
       "             fullname  has_wifi  has_plug has_adjustable_seats has_bicycle  \\\n",
       "0           Blablacar     False     False                False       False   \n",
       "1           Blablacar     False     False                False       False   \n",
       "2           Blablacar     False     False                False       False   \n",
       "3           Blablacar     False     False                False       False   \n",
       "4           Blablacar     False     False                False       False   \n",
       "...               ...       ...       ...                  ...         ...   \n",
       "74163  Student Agency     False     False                False       False   \n",
       "74164  Student Agency     False     False                False       False   \n",
       "74165  Student Agency     False     False                False       False   \n",
       "74166  Student Agency     False     False                False       False   \n",
       "74167  Student Agency     False     False                False       False   \n",
       "\n",
       "      transport_type     distance distance_group  \n",
       "0         carpooling   502.935701      201-800km  \n",
       "1         carpooling   502.935701      201-800km  \n",
       "2         carpooling   502.935701      201-800km  \n",
       "3         carpooling   502.935701      201-800km  \n",
       "4         carpooling   502.935701      201-800km  \n",
       "...              ...          ...            ...  \n",
       "74163            bus  1208.312305     800-2000km  \n",
       "74164            bus  1208.312305     800-2000km  \n",
       "74165            bus  1208.312305     800-2000km  \n",
       "74166            bus  1208.312305     800-2000km  \n",
       "74167            bus  1208.312305     800-2000km  \n",
       "\n",
       "[74168 rows x 25 columns]"
      ]
     },
     "execution_count": 35,
     "metadata": {},
     "output_type": "execute_result"
    }
   ],
   "source": [
    "ticket_transport"
   ]
  },
  {
   "cell_type": "code",
   "execution_count": 36,
   "id": "6647a919",
   "metadata": {},
   "outputs": [],
   "source": [
    "to_drop = [\"arrival_ts\",'departure_ts','id_y','company_id','id_x','company','o_station','d_station','search_ts','provider_id','fullname','distance_group','o_city','d_city']"
   ]
  },
  {
   "cell_type": "markdown",
   "id": "a543a45a",
   "metadata": {},
   "source": [
    "Je vais faire une copie du dataframe ayant 'tout' dans un nouveau."
   ]
  },
  {
   "cell_type": "code",
   "execution_count": 37,
   "id": "4b6266f3",
   "metadata": {},
   "outputs": [],
   "source": [
    "ticket_transport2= ticket_transport.copy()\n",
    "ticket_transport2.drop(columns=to_drop,inplace=True)"
   ]
  },
  {
   "cell_type": "markdown",
   "id": "c92fbda6",
   "metadata": {},
   "source": [
    "Avant meme de parler de modèle et d'imputation avec des lignes de codes, on va voir s'il manque des données dans le tableau.\n",
    "\n",
    "Mince il en manque...middle_stations et other_companies comme déjà dit ne m'inquiètent pas pour le peu qu'on interprète le manque de données par un trajet direct, par contre il en manque dans les caractéristiques des transports et ça c'est pas cool."
   ]
  },
  {
   "cell_type": "code",
   "execution_count": 38,
   "id": "5c5036f2",
   "metadata": {},
   "outputs": [
    {
     "data": {
      "text/plain": [
       "price_in_cents              0\n",
       "middle_stations         41441\n",
       "other_companies         41441\n",
       "durée                       0\n",
       "name                        0\n",
       "has_wifi                   16\n",
       "has_plug                   16\n",
       "has_adjustable_seats       16\n",
       "has_bicycle                16\n",
       "transport_type              0\n",
       "distance                    0\n",
       "dtype: int64"
      ]
     },
     "execution_count": 38,
     "metadata": {},
     "output_type": "execute_result"
    }
   ],
   "source": [
    "ticket_transport2.isnull().sum()"
   ]
  },
  {
   "cell_type": "markdown",
   "id": "b4f2dcb4",
   "metadata": {},
   "source": [
    "On va d'abord gérer le carsde middle_stations qu'on va simplifier par :\n",
    "- S'il y a de la donnée, c'est que le trajet n'est pas direct = 1\n",
    "- S'il n'y a pas de données, c'est que le trajet est direct = 0\n",
    "\n",
    "#### Piste d'amélioration\n",
    "Au lieu de mettre du 0 et 1, remplacer par le nombre de stations. Ainsi si un trajet passait par 4 stations, alors on aurait 4 et pas 1. Ca serait surement plus correct de faire ca."
   ]
  },
  {
   "cell_type": "code",
   "execution_count": 39,
   "id": "5d5b69b5",
   "metadata": {},
   "outputs": [],
   "source": [
    "ticket_transport2['middle_stations'].fillna(0,inplace=True)\n",
    "ticket_transport2['middle_stations'] = ticket_transport2['middle_stations'].apply(lambda x: 1 if x !=0 else x)"
   ]
  },
  {
   "cell_type": "markdown",
   "id": "d4b9b41d",
   "metadata": {},
   "source": [
    "On fait la meme chose que ci-dessus avec other_companies"
   ]
  },
  {
   "cell_type": "code",
   "execution_count": 40,
   "id": "8309dba4",
   "metadata": {},
   "outputs": [],
   "source": [
    "ticket_transport2['other_companies'].fillna(0,inplace=True)\n",
    "ticket_transport2['other_companies'] = ticket_transport2['other_companies'].apply(lambda x: 1 if x !=0 else x)"
   ]
  },
  {
   "cell_type": "markdown",
   "id": "3961f1ef",
   "metadata": {},
   "source": [
    "Maintenant on va essayer d'imputer les cacractéristiques des transports. Si on se rappel un groupement que j'avais fait, on avait pu discerner des implications dans les caractéristiques.\n",
    "Je vais réafficher ce groupement.\n",
    "\n",
    "On se souvient par exemple que si un bus n'a pas de wifi il n'a pas de prises...Eh bien on va imputer comme ca"
   ]
  },
  {
   "cell_type": "code",
   "execution_count": 41,
   "id": "88386db3",
   "metadata": {},
   "outputs": [
    {
     "name": "stderr",
     "output_type": "stream",
     "text": [
      "C:\\Users\\gabriel\\AppData\\Local\\Temp/ipykernel_17916/348559991.py:1: FutureWarning: Indexing with multiple keys (implicitly converted to a tuple of keys) will be deprecated, use a list instead.\n",
      "  ticket_transport.groupby('transport_type')[\"has_wifi\",\"has_plug\",\"has_adjustable_seats\",\"has_bicycle\"].value_counts()\n"
     ]
    },
    {
     "data": {
      "text/plain": [
       "transport_type  has_wifi  has_plug  has_adjustable_seats  has_bicycle\n",
       "bus             True      False     False                 False           7433\n",
       "                          True      True                  False           5167\n",
       "                False     False     True                  False            895\n",
       "                                    False                 False            287\n",
       "carpooling      False     False     False                 False          41441\n",
       "train           False     False     True                  False          18133\n",
       "                True      True      False                 True             796\n",
       "dtype: int64"
      ]
     },
     "execution_count": 41,
     "metadata": {},
     "output_type": "execute_result"
    }
   ],
   "source": [
    "ticket_transport.groupby('transport_type')[\"has_wifi\",\"has_plug\",\"has_adjustable_seats\",\"has_bicycle\"].value_counts()"
   ]
  },
  {
   "cell_type": "markdown",
   "id": "0a437794",
   "metadata": {},
   "source": [
    "Si le transport est du covoiturage alors il n'y a pas de wifi, de prises, de sièges ajustables et de vélos."
   ]
  },
  {
   "cell_type": "code",
   "execution_count": 42,
   "id": "496bae27",
   "metadata": {},
   "outputs": [],
   "source": [
    "ticket_transport2.loc[ticket_transport2['transport_type']==\"carpooling\",[\"has_wifi\",\"has_plug\",\"has_adjustable_seats\",\"has_bicycle\"]] = ticket_transport2.loc[ticket_transport2['transport_type']==\"carpooling\",[\"has_wifi\",\"has_plug\",\"has_adjustable_seats\",\"has_bicycle\"]].fillna(False)"
   ]
  },
  {
   "cell_type": "markdown",
   "id": "62d485a6",
   "metadata": {},
   "source": [
    "Si le transport est du bus alors il n'y a pas de vélos."
   ]
  },
  {
   "cell_type": "code",
   "execution_count": 43,
   "id": "40beb988",
   "metadata": {},
   "outputs": [],
   "source": [
    "ticket_transport2.loc[ticket_transport2['transport_type']==\"bus\",\"has_bicycle\"] = ticket_transport2.loc[ticket_transport2['transport_type']==\"bus\",\"has_bicycle\"].fillna(False)"
   ]
  },
  {
   "cell_type": "markdown",
   "id": "47799d46",
   "metadata": {},
   "source": [
    "Si le transport est du bus et qu'il n'a pas de wifi alors il n'a pas de prise."
   ]
  },
  {
   "cell_type": "code",
   "execution_count": 44,
   "id": "3f95ca82",
   "metadata": {},
   "outputs": [],
   "source": [
    "ticket_transport2.loc[(ticket_transport2['transport_type']==\"bus\")&(ticket_transport2['has_wifi']==False),\"has_plug\"] = ticket_transport2.loc[(ticket_transport2['transport_type']==\"bus\")&(ticket_transport2['has_wifi']==False),\"has_plug\"].fillna(False)"
   ]
  },
  {
   "cell_type": "markdown",
   "id": "e7bed0a6",
   "metadata": {},
   "source": [
    "Si le transport est un train et qu'il n'a pas de wifi alors il n'a pas de prise.\n",
    "Si le transport est un train et qu'il n'a pas de prise alors il n'a pas de wifi"
   ]
  },
  {
   "cell_type": "code",
   "execution_count": 45,
   "id": "6e01d266",
   "metadata": {},
   "outputs": [],
   "source": [
    "ticket_transport2.loc[(ticket_transport2['transport_type']==\"train\")&(ticket_transport2['has_wifi']==False),\"has_plug\"] = ticket_transport2.loc[(ticket_transport2['transport_type']==\"train\")&(ticket_transport2['has_wifi']==False),\"has_plug\"].fillna(False)\n",
    "ticket_transport2.loc[(ticket_transport2['transport_type']==\"train\")&(ticket_transport2['has_plug']==False),\"has_wifi\"] = ticket_transport2.loc[(ticket_transport2['transport_type']==\"train\")&(ticket_transport2['has_plug']==False),\"has_wifi\"].fillna(False)"
   ]
  },
  {
   "cell_type": "markdown",
   "id": "d168913c",
   "metadata": {},
   "source": [
    "Bien sûr, toutes ces imputations se fondent sur de fortes suppositions que l'on déduit du groupement.\n",
    "On pourrait continuer avec ces groupements, mais ayant déjà observé où manquait les valeurs, on décide de remplacer par le mode."
   ]
  },
  {
   "cell_type": "code",
   "execution_count": 46,
   "id": "f5c7baca",
   "metadata": {},
   "outputs": [],
   "source": [
    "for col in [\"has_wifi\",\"has_plug\",\"has_adjustable_seats\",\"has_bicycle\"]:\n",
    "    ticket_transport2[col] =  ticket_transport2[col].fillna(ticket_transport2[col].mode().iloc[0])"
   ]
  },
  {
   "cell_type": "markdown",
   "id": "5c4bcb2c",
   "metadata": {},
   "source": [
    "Parfait !\n",
    "On n'a plus de valeurs manquantes."
   ]
  },
  {
   "cell_type": "code",
   "execution_count": 47,
   "id": "0c47ee8f",
   "metadata": {},
   "outputs": [
    {
     "data": {
      "text/plain": [
       "price_in_cents          0\n",
       "middle_stations         0\n",
       "other_companies         0\n",
       "durée                   0\n",
       "name                    0\n",
       "has_wifi                0\n",
       "has_plug                0\n",
       "has_adjustable_seats    0\n",
       "has_bicycle             0\n",
       "transport_type          0\n",
       "distance                0\n",
       "dtype: int64"
      ]
     },
     "execution_count": 47,
     "metadata": {},
     "output_type": "execute_result"
    }
   ],
   "source": [
    "ticket_transport2.isnull().sum()"
   ]
  },
  {
   "cell_type": "markdown",
   "id": "9187d822",
   "metadata": {},
   "source": [
    "### Encoder les variables"
   ]
  },
  {
   "cell_type": "markdown",
   "id": "52e8287f",
   "metadata": {},
   "source": [
    "En tant que telles on ne peut toujours pas construire de modèle à cause de : des variables catégorielles.\n",
    "\n",
    "On a encore des objets, des bool, des timedeltas...Il y a encore du boulot"
   ]
  },
  {
   "cell_type": "code",
   "execution_count": 48,
   "id": "4961f212",
   "metadata": {},
   "outputs": [
    {
     "name": "stdout",
     "output_type": "stream",
     "text": [
      "<class 'pandas.core.frame.DataFrame'>\n",
      "Int64Index: 74168 entries, 0 to 74167\n",
      "Data columns (total 11 columns):\n",
      " #   Column                Non-Null Count  Dtype          \n",
      "---  ------                --------------  -----          \n",
      " 0   price_in_cents        74168 non-null  int64          \n",
      " 1   middle_stations       74168 non-null  int64          \n",
      " 2   other_companies       74168 non-null  int64          \n",
      " 3   durée                 74168 non-null  timedelta64[ns]\n",
      " 4   name                  74168 non-null  object         \n",
      " 5   has_wifi              74168 non-null  bool           \n",
      " 6   has_plug              74168 non-null  bool           \n",
      " 7   has_adjustable_seats  74168 non-null  bool           \n",
      " 8   has_bicycle           74168 non-null  bool           \n",
      " 9   transport_type        74168 non-null  object         \n",
      " 10  distance              74168 non-null  float64        \n",
      "dtypes: bool(4), float64(1), int64(3), object(2), timedelta64[ns](1)\n",
      "memory usage: 4.8+ MB\n"
     ]
    }
   ],
   "source": [
    "ticket_transport2.info()"
   ]
  },
  {
   "cell_type": "markdown",
   "id": "0de8b957",
   "metadata": {},
   "source": [
    "L'un des changements que l'on peut faire c'est de transformer toutes les variables booléenne en 0 et 1."
   ]
  },
  {
   "cell_type": "code",
   "execution_count": 49,
   "id": "d41bf804",
   "metadata": {},
   "outputs": [],
   "source": [
    "new_col2=[\"has_wifi\",\"has_plug\",\"has_adjustable_seats\",\"has_bicycle\"]\n",
    "ticket_transport2[new_col2] = ticket_transport2[new_col2].astype(int)\n"
   ]
  },
  {
   "cell_type": "markdown",
   "id": "08e16b8b",
   "metadata": {},
   "source": [
    "Pour l'instant on a gardé les distances, on va donc les scaler pour les rendre plus facile à \"ingérer\" et utiliser un robust scaler pour mieux gérer les outliers."
   ]
  },
  {
   "cell_type": "code",
   "execution_count": 50,
   "id": "c8359550",
   "metadata": {},
   "outputs": [],
   "source": [
    "rs = RobustScaler()\n",
    "col = ['distance']\n",
    "\n",
    "ticket_transport2[col] = rs.fit_transform(ticket_transport2[col])"
   ]
  },
  {
   "cell_type": "markdown",
   "id": "2c60cb4a",
   "metadata": {},
   "source": [
    "On va aussi faire un peu de feature engineering avec la durée, car son format de timedelta la rend inexplotable. Je vais donc décomposer en plus petits éléments exploitables.\n",
    "On récupère le nombre de jours, d'heures et de minutes, puis on se débarrase de la colonnes originale."
   ]
  },
  {
   "cell_type": "code",
   "execution_count": 51,
   "id": "88ddcb4e",
   "metadata": {},
   "outputs": [],
   "source": [
    "ticket_transport2['duree_d'] = ticket_transport2['durée'].dt.components.iloc[:,0]\n",
    "ticket_transport2['duree_h'] = ticket_transport2['durée'].dt.components.iloc[:,1]\n",
    "ticket_transport2['duree_m'] = ticket_transport2['durée'].dt.components.iloc[:,2]\n",
    "\n",
    "ticket_transport2.drop(columns=['durée'],inplace=True)"
   ]
  },
  {
   "cell_type": "markdown",
   "id": "d4b9b57f",
   "metadata": {},
   "source": [
    "Maintenant qu'on a encodé toutes les variables nécessaires on va dummifier tout le reste des variables qu'on n'a pas encore touché.\n",
    "Le résultat est...comme imaginé, tout va bien pour le moment !"
   ]
  },
  {
   "cell_type": "code",
   "execution_count": 52,
   "id": "52b96c7b",
   "metadata": {},
   "outputs": [
    {
     "data": {
      "text/html": [
       "<div>\n",
       "<style scoped>\n",
       "    .dataframe tbody tr th:only-of-type {\n",
       "        vertical-align: middle;\n",
       "    }\n",
       "\n",
       "    .dataframe tbody tr th {\n",
       "        vertical-align: top;\n",
       "    }\n",
       "\n",
       "    .dataframe thead th {\n",
       "        text-align: right;\n",
       "    }\n",
       "</style>\n",
       "<table border=\"1\" class=\"dataframe\">\n",
       "  <thead>\n",
       "    <tr style=\"text-align: right;\">\n",
       "      <th></th>\n",
       "      <th>price_in_cents</th>\n",
       "      <th>middle_stations</th>\n",
       "      <th>other_companies</th>\n",
       "      <th>has_wifi</th>\n",
       "      <th>has_plug</th>\n",
       "      <th>has_adjustable_seats</th>\n",
       "      <th>has_bicycle</th>\n",
       "      <th>distance</th>\n",
       "      <th>duree_d</th>\n",
       "      <th>duree_h</th>\n",
       "      <th>...</th>\n",
       "      <th>name_navettedeVatry</th>\n",
       "      <th>name_ouibus</th>\n",
       "      <th>name_studentAgency</th>\n",
       "      <th>name_tgv</th>\n",
       "      <th>name_thalys</th>\n",
       "      <th>name_train</th>\n",
       "      <th>name_vatry</th>\n",
       "      <th>transport_type_bus</th>\n",
       "      <th>transport_type_carpooling</th>\n",
       "      <th>transport_type_train</th>\n",
       "    </tr>\n",
       "  </thead>\n",
       "  <tbody>\n",
       "    <tr>\n",
       "      <th>0</th>\n",
       "      <td>4550</td>\n",
       "      <td>0</td>\n",
       "      <td>0</td>\n",
       "      <td>0</td>\n",
       "      <td>0</td>\n",
       "      <td>0</td>\n",
       "      <td>0</td>\n",
       "      <td>0.384259</td>\n",
       "      <td>0</td>\n",
       "      <td>6</td>\n",
       "      <td>...</td>\n",
       "      <td>0</td>\n",
       "      <td>0</td>\n",
       "      <td>0</td>\n",
       "      <td>0</td>\n",
       "      <td>0</td>\n",
       "      <td>0</td>\n",
       "      <td>0</td>\n",
       "      <td>0</td>\n",
       "      <td>1</td>\n",
       "      <td>0</td>\n",
       "    </tr>\n",
       "    <tr>\n",
       "      <th>1</th>\n",
       "      <td>1800</td>\n",
       "      <td>0</td>\n",
       "      <td>0</td>\n",
       "      <td>0</td>\n",
       "      <td>0</td>\n",
       "      <td>0</td>\n",
       "      <td>0</td>\n",
       "      <td>0.384259</td>\n",
       "      <td>0</td>\n",
       "      <td>3</td>\n",
       "      <td>...</td>\n",
       "      <td>0</td>\n",
       "      <td>0</td>\n",
       "      <td>0</td>\n",
       "      <td>0</td>\n",
       "      <td>0</td>\n",
       "      <td>0</td>\n",
       "      <td>0</td>\n",
       "      <td>0</td>\n",
       "      <td>1</td>\n",
       "      <td>0</td>\n",
       "    </tr>\n",
       "    <tr>\n",
       "      <th>2</th>\n",
       "      <td>2150</td>\n",
       "      <td>0</td>\n",
       "      <td>0</td>\n",
       "      <td>0</td>\n",
       "      <td>0</td>\n",
       "      <td>0</td>\n",
       "      <td>0</td>\n",
       "      <td>0.384259</td>\n",
       "      <td>0</td>\n",
       "      <td>2</td>\n",
       "      <td>...</td>\n",
       "      <td>0</td>\n",
       "      <td>0</td>\n",
       "      <td>0</td>\n",
       "      <td>0</td>\n",
       "      <td>0</td>\n",
       "      <td>0</td>\n",
       "      <td>0</td>\n",
       "      <td>0</td>\n",
       "      <td>1</td>\n",
       "      <td>0</td>\n",
       "    </tr>\n",
       "    <tr>\n",
       "      <th>3</th>\n",
       "      <td>1700</td>\n",
       "      <td>0</td>\n",
       "      <td>0</td>\n",
       "      <td>0</td>\n",
       "      <td>0</td>\n",
       "      <td>0</td>\n",
       "      <td>0</td>\n",
       "      <td>0.384259</td>\n",
       "      <td>0</td>\n",
       "      <td>2</td>\n",
       "      <td>...</td>\n",
       "      <td>0</td>\n",
       "      <td>0</td>\n",
       "      <td>0</td>\n",
       "      <td>0</td>\n",
       "      <td>0</td>\n",
       "      <td>0</td>\n",
       "      <td>0</td>\n",
       "      <td>0</td>\n",
       "      <td>1</td>\n",
       "      <td>0</td>\n",
       "    </tr>\n",
       "    <tr>\n",
       "      <th>4</th>\n",
       "      <td>1700</td>\n",
       "      <td>0</td>\n",
       "      <td>0</td>\n",
       "      <td>0</td>\n",
       "      <td>0</td>\n",
       "      <td>0</td>\n",
       "      <td>0</td>\n",
       "      <td>0.384259</td>\n",
       "      <td>0</td>\n",
       "      <td>2</td>\n",
       "      <td>...</td>\n",
       "      <td>0</td>\n",
       "      <td>0</td>\n",
       "      <td>0</td>\n",
       "      <td>0</td>\n",
       "      <td>0</td>\n",
       "      <td>0</td>\n",
       "      <td>0</td>\n",
       "      <td>0</td>\n",
       "      <td>1</td>\n",
       "      <td>0</td>\n",
       "    </tr>\n",
       "    <tr>\n",
       "      <th>...</th>\n",
       "      <td>...</td>\n",
       "      <td>...</td>\n",
       "      <td>...</td>\n",
       "      <td>...</td>\n",
       "      <td>...</td>\n",
       "      <td>...</td>\n",
       "      <td>...</td>\n",
       "      <td>...</td>\n",
       "      <td>...</td>\n",
       "      <td>...</td>\n",
       "      <td>...</td>\n",
       "      <td>...</td>\n",
       "      <td>...</td>\n",
       "      <td>...</td>\n",
       "      <td>...</td>\n",
       "      <td>...</td>\n",
       "      <td>...</td>\n",
       "      <td>...</td>\n",
       "      <td>...</td>\n",
       "      <td>...</td>\n",
       "      <td>...</td>\n",
       "    </tr>\n",
       "    <tr>\n",
       "      <th>74163</th>\n",
       "      <td>4687</td>\n",
       "      <td>1</td>\n",
       "      <td>1</td>\n",
       "      <td>0</td>\n",
       "      <td>0</td>\n",
       "      <td>0</td>\n",
       "      <td>0</td>\n",
       "      <td>2.795073</td>\n",
       "      <td>0</td>\n",
       "      <td>11</td>\n",
       "      <td>...</td>\n",
       "      <td>0</td>\n",
       "      <td>0</td>\n",
       "      <td>1</td>\n",
       "      <td>0</td>\n",
       "      <td>0</td>\n",
       "      <td>0</td>\n",
       "      <td>0</td>\n",
       "      <td>1</td>\n",
       "      <td>0</td>\n",
       "      <td>0</td>\n",
       "    </tr>\n",
       "    <tr>\n",
       "      <th>74164</th>\n",
       "      <td>4777</td>\n",
       "      <td>1</td>\n",
       "      <td>1</td>\n",
       "      <td>0</td>\n",
       "      <td>0</td>\n",
       "      <td>0</td>\n",
       "      <td>0</td>\n",
       "      <td>2.795073</td>\n",
       "      <td>0</td>\n",
       "      <td>11</td>\n",
       "      <td>...</td>\n",
       "      <td>0</td>\n",
       "      <td>0</td>\n",
       "      <td>1</td>\n",
       "      <td>0</td>\n",
       "      <td>0</td>\n",
       "      <td>0</td>\n",
       "      <td>0</td>\n",
       "      <td>1</td>\n",
       "      <td>0</td>\n",
       "      <td>0</td>\n",
       "    </tr>\n",
       "    <tr>\n",
       "      <th>74165</th>\n",
       "      <td>1990</td>\n",
       "      <td>1</td>\n",
       "      <td>1</td>\n",
       "      <td>0</td>\n",
       "      <td>0</td>\n",
       "      <td>0</td>\n",
       "      <td>0</td>\n",
       "      <td>2.795073</td>\n",
       "      <td>0</td>\n",
       "      <td>14</td>\n",
       "      <td>...</td>\n",
       "      <td>0</td>\n",
       "      <td>0</td>\n",
       "      <td>1</td>\n",
       "      <td>0</td>\n",
       "      <td>0</td>\n",
       "      <td>0</td>\n",
       "      <td>0</td>\n",
       "      <td>1</td>\n",
       "      <td>0</td>\n",
       "      <td>0</td>\n",
       "    </tr>\n",
       "    <tr>\n",
       "      <th>74166</th>\n",
       "      <td>4590</td>\n",
       "      <td>1</td>\n",
       "      <td>1</td>\n",
       "      <td>0</td>\n",
       "      <td>0</td>\n",
       "      <td>0</td>\n",
       "      <td>0</td>\n",
       "      <td>2.795073</td>\n",
       "      <td>0</td>\n",
       "      <td>9</td>\n",
       "      <td>...</td>\n",
       "      <td>0</td>\n",
       "      <td>0</td>\n",
       "      <td>1</td>\n",
       "      <td>0</td>\n",
       "      <td>0</td>\n",
       "      <td>0</td>\n",
       "      <td>0</td>\n",
       "      <td>1</td>\n",
       "      <td>0</td>\n",
       "      <td>0</td>\n",
       "    </tr>\n",
       "    <tr>\n",
       "      <th>74167</th>\n",
       "      <td>3300</td>\n",
       "      <td>1</td>\n",
       "      <td>1</td>\n",
       "      <td>0</td>\n",
       "      <td>0</td>\n",
       "      <td>0</td>\n",
       "      <td>0</td>\n",
       "      <td>2.795073</td>\n",
       "      <td>0</td>\n",
       "      <td>9</td>\n",
       "      <td>...</td>\n",
       "      <td>0</td>\n",
       "      <td>0</td>\n",
       "      <td>1</td>\n",
       "      <td>0</td>\n",
       "      <td>0</td>\n",
       "      <td>0</td>\n",
       "      <td>0</td>\n",
       "      <td>1</td>\n",
       "      <td>0</td>\n",
       "      <td>0</td>\n",
       "    </tr>\n",
       "  </tbody>\n",
       "</table>\n",
       "<p>74168 rows × 34 columns</p>\n",
       "</div>"
      ],
      "text/plain": [
       "       price_in_cents  middle_stations  other_companies  has_wifi  has_plug  \\\n",
       "0                4550                0                0         0         0   \n",
       "1                1800                0                0         0         0   \n",
       "2                2150                0                0         0         0   \n",
       "3                1700                0                0         0         0   \n",
       "4                1700                0                0         0         0   \n",
       "...               ...              ...              ...       ...       ...   \n",
       "74163            4687                1                1         0         0   \n",
       "74164            4777                1                1         0         0   \n",
       "74165            1990                1                1         0         0   \n",
       "74166            4590                1                1         0         0   \n",
       "74167            3300                1                1         0         0   \n",
       "\n",
       "       has_adjustable_seats  has_bicycle  distance  duree_d  duree_h  ...  \\\n",
       "0                         0            0  0.384259        0        6  ...   \n",
       "1                         0            0  0.384259        0        3  ...   \n",
       "2                         0            0  0.384259        0        2  ...   \n",
       "3                         0            0  0.384259        0        2  ...   \n",
       "4                         0            0  0.384259        0        2  ...   \n",
       "...                     ...          ...       ...      ...      ...  ...   \n",
       "74163                     0            0  2.795073        0       11  ...   \n",
       "74164                     0            0  2.795073        0       11  ...   \n",
       "74165                     0            0  2.795073        0       14  ...   \n",
       "74166                     0            0  2.795073        0        9  ...   \n",
       "74167                     0            0  2.795073        0        9  ...   \n",
       "\n",
       "       name_navettedeVatry  name_ouibus  name_studentAgency  name_tgv  \\\n",
       "0                        0            0                   0         0   \n",
       "1                        0            0                   0         0   \n",
       "2                        0            0                   0         0   \n",
       "3                        0            0                   0         0   \n",
       "4                        0            0                   0         0   \n",
       "...                    ...          ...                 ...       ...   \n",
       "74163                    0            0                   1         0   \n",
       "74164                    0            0                   1         0   \n",
       "74165                    0            0                   1         0   \n",
       "74166                    0            0                   1         0   \n",
       "74167                    0            0                   1         0   \n",
       "\n",
       "       name_thalys  name_train  name_vatry  transport_type_bus  \\\n",
       "0                0           0           0                   0   \n",
       "1                0           0           0                   0   \n",
       "2                0           0           0                   0   \n",
       "3                0           0           0                   0   \n",
       "4                0           0           0                   0   \n",
       "...            ...         ...         ...                 ...   \n",
       "74163            0           0           0                   1   \n",
       "74164            0           0           0                   1   \n",
       "74165            0           0           0                   1   \n",
       "74166            0           0           0                   1   \n",
       "74167            0           0           0                   1   \n",
       "\n",
       "       transport_type_carpooling  transport_type_train  \n",
       "0                              1                     0  \n",
       "1                              1                     0  \n",
       "2                              1                     0  \n",
       "3                              1                     0  \n",
       "4                              1                     0  \n",
       "...                          ...                   ...  \n",
       "74163                          0                     0  \n",
       "74164                          0                     0  \n",
       "74165                          0                     0  \n",
       "74166                          0                     0  \n",
       "74167                          0                     0  \n",
       "\n",
       "[74168 rows x 34 columns]"
      ]
     },
     "execution_count": 52,
     "metadata": {},
     "output_type": "execute_result"
    }
   ],
   "source": [
    "data = pd.get_dummies(ticket_transport2)\n",
    "data"
   ]
  },
  {
   "cell_type": "markdown",
   "id": "1318d425",
   "metadata": {},
   "source": [
    "Et on peut séparer la variables à prédire du reste"
   ]
  },
  {
   "cell_type": "code",
   "execution_count": 53,
   "id": "3abb600c",
   "metadata": {},
   "outputs": [],
   "source": [
    "y = data.price_in_cents\n",
    "X = data.loc[:,data.columns != 'price_in_cents']\n"
   ]
  },
  {
   "cell_type": "markdown",
   "id": "de550ae5",
   "metadata": {},
   "source": [
    "On effectue les rudiments du machine learning, on va spliter les données en bases d'entrainement et de test."
   ]
  },
  {
   "cell_type": "code",
   "execution_count": 54,
   "id": "26009e88",
   "metadata": {},
   "outputs": [],
   "source": [
    "X_train, X_test, y_train, y_test = train_test_split(X,y,random_state=12102001)"
   ]
  },
  {
   "cell_type": "markdown",
   "id": "fee6ac8f",
   "metadata": {},
   "source": [
    "Tout est bon !\n",
    "On peut enfin s'occuper de créer les modèles et effectuer des prédictions, l'étape la plus cool mais aussi la plus frustrante.\n",
    "Si tout allait bien avant, on va voir si tout va toujours bien après."
   ]
  },
  {
   "cell_type": "markdown",
   "id": "9305b99c",
   "metadata": {},
   "source": [
    "### Régression linéaire"
   ]
  },
  {
   "cell_type": "markdown",
   "id": "9837848c",
   "metadata": {},
   "source": [
    "Fallait faire un choix, je commende donc par la régression linéaire pour savoir comment performe le modèle sur les données."
   ]
  },
  {
   "cell_type": "code",
   "execution_count": 55,
   "id": "47a9228f",
   "metadata": {},
   "outputs": [
    {
     "data": {
      "text/plain": [
       "LinearRegression()"
      ]
     },
     "execution_count": 55,
     "metadata": {},
     "output_type": "execute_result"
    }
   ],
   "source": [
    "lr = LinearRegression()\n",
    "lr.fit(X_train,y_train)"
   ]
  },
  {
   "cell_type": "markdown",
   "id": "5eac5ec5",
   "metadata": {},
   "source": [
    "Ah, le modèle semble ne pas performer correctement sur les données. Légèrement plus qu'une décision aléatoire, c'est pas très bon tout ça..."
   ]
  },
  {
   "cell_type": "code",
   "execution_count": 56,
   "id": "81e58b01",
   "metadata": {},
   "outputs": [
    {
     "data": {
      "text/plain": [
       "0.5751227634934271"
      ]
     },
     "execution_count": 56,
     "metadata": {},
     "output_type": "execute_result"
    }
   ],
   "source": [
    "lr.score(X_test,y_test)"
   ]
  },
  {
   "cell_type": "markdown",
   "id": "f90300ff",
   "metadata": {},
   "source": [
    "### XGBRegressor"
   ]
  },
  {
   "cell_type": "markdown",
   "id": "d47cb976",
   "metadata": {},
   "source": [
    "Au vu de la piètre performance de la régression linéaire on va essayer avec le XGBRegressor"
   ]
  },
  {
   "cell_type": "code",
   "execution_count": 57,
   "id": "d2c30c70",
   "metadata": {},
   "outputs": [
    {
     "data": {
      "text/plain": [
       "XGBRegressor(base_score=None, booster=None, callbacks=None,\n",
       "             colsample_bylevel=None, colsample_bynode=None,\n",
       "             colsample_bytree=None, early_stopping_rounds=None,\n",
       "             enable_categorical=False, eval_metric=None, feature_types=None,\n",
       "             gamma=None, gpu_id=None, grow_policy=None, importance_type=None,\n",
       "             interaction_constraints=None, learning_rate=None, max_bin=None,\n",
       "             max_cat_threshold=None, max_cat_to_onehot=None,\n",
       "             max_delta_step=None, max_depth=None, max_leaves=None,\n",
       "             min_child_weight=None, missing=nan, monotone_constraints=None,\n",
       "             n_estimators=100, n_jobs=None, num_parallel_tree=None,\n",
       "             predictor=None, random_state=None, ...)"
      ]
     },
     "execution_count": 57,
     "metadata": {},
     "output_type": "execute_result"
    }
   ],
   "source": [
    "xgb = XGBRegressor()\n",
    "xgb.fit(X_train,y_train)"
   ]
  },
  {
   "cell_type": "markdown",
   "id": "c0dfd0fb",
   "metadata": {},
   "source": [
    "C'est un peu mieux que le précédent, mais je pense qu'on peut toujours faire mieux."
   ]
  },
  {
   "cell_type": "code",
   "execution_count": 58,
   "id": "bcb65f4d",
   "metadata": {},
   "outputs": [
    {
     "data": {
      "text/plain": [
       "0.7543827961571818"
      ]
     },
     "execution_count": 58,
     "metadata": {},
     "output_type": "execute_result"
    }
   ],
   "source": [
    "xgb.score(X_test,y_test)"
   ]
  },
  {
   "cell_type": "markdown",
   "id": "9c4fc375",
   "metadata": {},
   "source": [
    "### RandomForest"
   ]
  },
  {
   "cell_type": "markdown",
   "id": "9a45f5c1",
   "metadata": {},
   "source": [
    "Je décide d'essayer un dernier modèle pour voir s'il y a moyen d'améliorer les choses. On va essayer un randomforest"
   ]
  },
  {
   "cell_type": "code",
   "execution_count": 59,
   "id": "b07cc994",
   "metadata": {},
   "outputs": [
    {
     "data": {
      "text/plain": [
       "RandomForestRegressor()"
      ]
     },
     "execution_count": 59,
     "metadata": {},
     "output_type": "execute_result"
    }
   ],
   "source": [
    "rfr = RandomForestRegressor()\n",
    "rfr.fit(X_train,y_train)"
   ]
  },
  {
   "cell_type": "markdown",
   "id": "5f3dd8ea",
   "metadata": {},
   "source": [
    "Le score est légèrement mieux, on pourrait presque s'en contenter, mais des améliorations peuvent être apportées."
   ]
  },
  {
   "cell_type": "code",
   "execution_count": 60,
   "id": "457997ec",
   "metadata": {},
   "outputs": [
    {
     "data": {
      "text/plain": [
       "0.7935186768292064"
      ]
     },
     "execution_count": 60,
     "metadata": {},
     "output_type": "execute_result"
    }
   ],
   "source": [
    "rfr.score(X_test,y_test)"
   ]
  },
  {
   "cell_type": "markdown",
   "id": "1b720aa2",
   "metadata": {},
   "source": [
    "# Conclusion"
   ]
  },
  {
   "cell_type": "markdown",
   "id": "9777fb33",
   "metadata": {},
   "source": [
    "Voilà donc le travail que je pouvais fournir compte tenu de ce que je suis capable de faire et de la contrainte de temps que j'avais. A travers ces différents graphs j'ai pu voir les différents type de transports empruntés et ceux qui l'étaient plus ou moins, de la même manière que les différentes corrélations que j'aurais pu croire comme existantes alors que pas du tout. Mais le travail ici est loin d'etre parfait et exhaustif, c'est pourquoi je vais lister ici ce qui j'aurais pu faire si j'avais été un peu plus libre :\n",
    "\n",
    "## Pistes d'améliorations :\n",
    "- Un dashboard intéractif avec Dash ou shiny (en R), pour par exemple choisir des graphes en fonction d'une séléction des compagnies ou du type de transports\n",
    "- Faire des graphes chronologiques en tenant compte de la date du départ et pouvoir tirer des conclusions plus poussées qu'un simple prix à partir de la date\n",
    "- Une utilisation des stations et pas des villes pour calculer les distances pour avoir plus de précisions et en tenir compte dans les graphiques. Ajouter les stations intermédiaires pour avoir une distance toujours plus parfaites.\n",
    "- Intégrer la dimension de la population pour voir le prix en fonction de la ville et de sa taille (j'imagine bien un graphique des villes en fonctions des prix avec des cercles dont la taille varierait avec la population). Comme il y avait des données manquantes on aurait pu les compléter par scraping ou API externe pour la population.\n",
    "\n",
    "Le modèle prédictif était ma partie favorite (ca m'a fait pensé à Kaggle), mais une qui pouvait aussi être le plus améliorée :\n",
    "- Les variables utilisées pour la prédiction sont celles que j'ai choisies et ne constituent surement pas le meilleur choix, on aurait pu utiliser un PCA/NMF ou une séléction à travers le CatBoosting pour déterminer quelles variables sont les plus utiles.\n",
    "- Faire de la cross-validation pour produire un véritable score pour chacun des modèles sur la généralisation\n",
    "- Evidemment fine-tuner les modèles avec une GridSearch/RandomizedSearch pour aller gratter quelques pourcentages de précision\n",
    "- Pourquoi pas créer le fameux regroupement de villes comme mentionnées pour ajouter une feature pour les villes ayant un grande variances de prix. La meme chose pourrait etre faite avec la durée.\n",
    "- Intégrer les idées du paragraphe ci-dessus pourrait nettement améliorer les performances des modèles.\n",
    "- Tout ca permettra de rendre ces résultats plus consistant, car là si on ré-exécuter les cellules plusieurs fois on peut tomber sur des scores absolument horribles.\n",
    "\n",
    "Sinon voila tout, je crois que j'ai dit et fais tout ce que je pouvais.\n",
    "Exercice très appréciable.\n",
    "Comme je sais que ce que j'ai fais n'est pas parfait, si jamais vous avez des retours ca serait avec grand plaisir !"
   ]
  },
  {
   "cell_type": "code",
   "execution_count": null,
   "id": "a9deb251",
   "metadata": {},
   "outputs": [],
   "source": []
  }
 ],
 "metadata": {
  "kernelspec": {
   "display_name": "Python 3 (ipykernel)",
   "language": "python",
   "name": "python3"
  },
  "language_info": {
   "codemirror_mode": {
    "name": "ipython",
    "version": 3
   },
   "file_extension": ".py",
   "mimetype": "text/x-python",
   "name": "python",
   "nbconvert_exporter": "python",
   "pygments_lexer": "ipython3",
   "version": "3.8.8"
  }
 },
 "nbformat": 4,
 "nbformat_minor": 5
}
